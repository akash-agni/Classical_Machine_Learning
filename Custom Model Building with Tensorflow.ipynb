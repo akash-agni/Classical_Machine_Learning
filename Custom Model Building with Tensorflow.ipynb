{
 "cells": [
  {
   "cell_type": "code",
   "execution_count": 1,
   "metadata": {},
   "outputs": [],
   "source": [
    "import tensorflow as tf\n",
    "import tensorflow.keras as keras\n",
    "import os\n",
    "import matplotlib.pyplot as plt\n",
    "import numpy as np"
   ]
  },
  {
   "cell_type": "code",
   "execution_count": 2,
   "metadata": {},
   "outputs": [],
   "source": [
    "work_dir = os.curdir\n",
    "data_dir = os.path.join(work_dir,'datasets')\n",
    "log_dir = os.path.join(work_dir,'logs')"
   ]
  },
  {
   "cell_type": "code",
   "execution_count": 3,
   "metadata": {},
   "outputs": [],
   "source": [
    "def LoadData():\n",
    "    (X_train,y_train),(X_test,y_test) = tf.keras.datasets.mnist.load_data(path='mnist.npz')\n",
    "    X_train = tf.constant(X_train,dtype='float32')\n",
    "    X_test = tf.constant(X_test,dtype='float32')\n",
    "    y_train = tf.constant(y_train,dtype='float32')\n",
    "    y_test = tf.constant(y_test,dtype='float32')\n",
    "    return ((X_train,y_train),(X_test,y_test))"
   ]
  },
  {
   "cell_type": "code",
   "execution_count": 4,
   "metadata": {},
   "outputs": [],
   "source": [
    "(X_train,y_train),(X_test,y_test) = LoadData()"
   ]
  },
  {
   "cell_type": "code",
   "execution_count": 5,
   "metadata": {},
   "outputs": [
    {
     "data": {
      "image/png": "[encoded data removed]",
      "text/plain": [
       "<Figure size 960x320 with 10 Axes>"
      ]
     },
     "metadata": {},
     "output_type": "display_data"
    }
   ],
   "source": [
    "fig,ax = plt.subplots(nrows=2,ncols=5,figsize=(12,4),dpi=80)\n",
    "for i in range(2):\n",
    "    for j in range(5):\n",
    "        dig = i*5 + j\n",
    "        bool_list = (y_train == dig)\n",
    "        idx = np.random.randint(low=0,high=1000)\n",
    "        X_sample = X_train[bool_list][idx]\n",
    "        y_sample = y_train[bool_list][idx]\n",
    "        ax[i][j].imshow(np.array(X_sample),cmap='Greys')\n",
    "        ax[i][j].title.set_text(dig)\n",
    "        ax[i][j].tick_params(axis='x',which='both',bottom=False,top=False,labelbottom=False)\n",
    "        ax[i][j].tick_params(axis='y',which='both',left=False,right=False,labelleft=False)"
   ]
  },
  {
   "cell_type": "code",
   "execution_count": 81,
   "metadata": {},
   "outputs": [],
   "source": [
    "class MyNormalizationLayer(tf.keras.layers.Layer):\n",
    "    def __init__(self,epsilon=0.0001,**kwargs):\n",
    "        super().__init__(**kwargs)\n",
    "        self.epsilon = epsilon\n",
    "        \n",
    "    def build(self,batch_input_shape):\n",
    "        self.alpha = tf.Variable(np.ones(shape=batch_input_shape[-1:]),dtype='float32')\n",
    "        self.beta = tf.Variable(np.zeros(shape=batch_input_shape[-1:]),dtype='float32')\n",
    "    \n",
    "    def call(self,inputs):\n",
    "        if len(inputs.shape) == 1:\n",
    "            mu,var = tf.nn.moments(inputs, axes=0, keepdims=True)\n",
    "        else:\n",
    "            mu,var = tf.nn.moments(inputs, axes=1, keepdims=True)\n",
    "        std = tf.math.sqrt(var)\n",
    "        return self.alpha*(inputs-mu)/(std + self.epsilon) + self.beta\n",
    "    \n",
    "    def compute_output_shape(self,batch_input_shape):\n",
    "        return batch_input_shape\n",
    "    \n",
    "    def get_config():\n",
    "        base_config =super().get_config()\n",
    "        return {**base_config,'epsilon':self.epsilon}"
   ]
  },
  {
   "cell_type": "code",
   "execution_count": 82,
   "metadata": {},
   "outputs": [],
   "source": [
    "def my_glorot_normal(shape,dtype=tf.float32,seed=42):\n",
    "    stddev = tf.sqrt(2. / (shape[0] + shape[1]))\n",
    "    return tf.random.normal(shape=shape,stddev=stddev,seed=seed)"
   ]
  },
  {
   "cell_type": "code",
   "execution_count": 164,
   "metadata": {},
   "outputs": [],
   "source": [
    "def my_relu(z):\n",
    "    return tf.cast(tf.nn.leaky_relu(z),tf.float32)\n",
    "\n",
    "def my_softmax(z):\n",
    "    return tf.math.exp(z)/tf.math.reduce_sum(tf.math.exp(z))"
   ]
  },
  {
   "cell_type": "code",
   "execution_count": 166,
   "metadata": {},
   "outputs": [],
   "source": [
    "class MyDenseLayer(keras.layers.Layer):\n",
    "    def __init__(self,units, activation=None, **kwargs):\n",
    "        super().__init__(**kwargs)\n",
    "        self.units=units\n",
    "        self.activation = activation\n",
    "    def build(self, batch_input_shape):\n",
    "        self.kernel = self.add_weight(\n",
    "                                name='kernel',shape=[batch_input_shape[-1],self.units],\n",
    "                                initializer=my_glorot_normal)\n",
    "        self.bias = self.add_weight(name='bias', shape=[self.units], initializer='zeros')\n",
    "        \n",
    "    def call(self, X):\n",
    "        return self.activation(X @ self.kernel + self.bias)\n",
    "    \n",
    "    def compute_output_shape(self, batch_input_shape):\n",
    "        return tf.TensorShape(batch_input_shape.as_list()[:-1] + [self.units])\n",
    "    \n",
    "    def get_config(self):\n",
    "        base_config =super().get_config()\n",
    "        return {**base_config,'units':self.units,'activation':keras.activations.serialize(self.activation)}"
   ]
  },
  {
   "cell_type": "code",
   "execution_count": 167,
   "metadata": {},
   "outputs": [],
   "source": [
    "keras.backend.clear_session()\n",
    "np.random.seed(42)\n",
    "tf.random.set_seed(42)"
   ]
  },
  {
   "cell_type": "code",
   "execution_count": 168,
   "metadata": {},
   "outputs": [],
   "source": [
    "model = keras.Sequential(([tf.keras.layers.Flatten(input_shape=X_train.shape[1:]),\n",
    "                           MyNormalizationLayer(),\n",
    "                           MyDenseLayer(128,activation=my_relu),\n",
    "                           MyDenseLayer(64,activation=my_relu),\n",
    "                           MyDenseLayer(10,activation=my_softmax)]))"
   ]
  },
  {
   "cell_type": "code",
   "execution_count": 169,
   "metadata": {},
   "outputs": [],
   "source": [
    "model.compile(optimizer='nadam',loss='sparse_categorical_crossentropy',metrics=['acc'])"
   ]
  },
  {
   "cell_type": "code",
   "execution_count": 170,
   "metadata": {},
   "outputs": [
    {
     "name": "stdout",
     "output_type": "stream",
     "text": [
      "Model: \"sequential\"\n",
      "_________________________________________________________________\n",
      "Layer (type)                 Output Shape              Param #   \n",
      "=================================================================\n",
      "flatten (Flatten)            (None, 784)               0         \n",
      "_________________________________________________________________\n",
      "my_normalization_layer (MyNo (None, 784)               1568      \n",
      "_________________________________________________________________\n",
      "my_dense_layer (MyDenseLayer (None, 128)               100480    \n",
      "_________________________________________________________________\n",
      "my_dense_layer_1 (MyDenseLay (None, 64)                8256      \n",
      "_________________________________________________________________\n",
      "my_dense_layer_2 (MyDenseLay (None, 10)                650       \n",
      "=================================================================\n",
      "Total params: 110,954\n",
      "Trainable params: 110,954\n",
      "Non-trainable params: 0\n",
      "_________________________________________________________________\n"
     ]
    }
   ],
   "source": [
    "model.summary()"
   ]
  },
  {
   "cell_type": "code",
   "execution_count": 171,
   "metadata": {},
   "outputs": [
    {
     "name": "stdout",
     "output_type": "stream",
     "text": [
      "1500/1500 [==============================] - 8s 6ms/step - loss: 0.2401 - acc: 0.9277 - val_loss: 0.1375 - val_acc: 0.9604\n"
     ]
    },
    {
     "data": {
      "text/plain": [
       "<tensorflow.python.keras.callbacks.History at 0x14504934828>"
      ]
     },
     "execution_count": 171,
     "metadata": {},
     "output_type": "execute_result"
    }
   ],
   "source": [
    "model.fit(X_train,y_train,batch_size=32,epochs=1,validation_split=0.2)"
   ]
  },
  {
   "cell_type": "code",
   "execution_count": 172,
   "metadata": {},
   "outputs": [
    {
     "name": "stdout",
     "output_type": "stream",
     "text": [
      "313/313 [==============================] - 1s 2ms/step - loss: 0.1370 - acc: 0.9589\n"
     ]
    },
    {
     "data": {
      "text/plain": [
       "[0.13696008920669556, 0.958899974822998]"
      ]
     },
     "execution_count": 172,
     "metadata": {},
     "output_type": "execute_result"
    }
   ],
   "source": [
    "model.evaluate(X_test,y_test)"
   ]
  }
 ],
 "metadata": {
  "kernelspec": {
   "display_name": "Python 3",
   "language": "python",
   "name": "python3"
  },
  "language_info": {
   "codemirror_mode": {
    "name": "ipython",
    "version": 3
   },
   "file_extension": ".py",
   "mimetype": "text/x-python",
   "name": "python",
   "nbconvert_exporter": "python",
   "pygments_lexer": "ipython3",
   "version": "3.7.3"
  }
 },
 "nbformat": 4,
 "nbformat_minor": 2
}
