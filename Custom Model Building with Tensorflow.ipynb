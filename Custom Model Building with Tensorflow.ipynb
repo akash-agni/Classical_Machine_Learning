{
 "cells": [
  {
   "cell_type": "markdown",
   "metadata": {},
   "source": [
    "# Custom Model Development Using TensorFlow"
   ]
  },
  {
   "cell_type": "markdown",
   "metadata": {},
   "source": [
    "<b><i>Hola!! Welcome Back to my notebook, if you are new here, leave a comment as shout out.\n",
    "    </i></b>"
   ]
  },
  {
   "cell_type": "markdown",
   "metadata": {},
   "source": [
    "### 1. So whats the deal here?\n",
    "\n",
    "<b><i>I am learning how  to build custom models from scratch using lower level API's of TensorFlow.</i></b>\n",
    "\n",
    "<i>So I will try to implementing every aspect of a simple Multi Layer Perceptron (MLP) using custom build functions and classes.</i>"
   ]
  },
  {
   "cell_type": "markdown",
   "metadata": {},
   "source": [
    "### 2. Why Do It?\n",
    "\n",
    "<b><ul>\n",
    "    <li>Cause at Industrial Level,you need to implement custom tools, for unique problems</li>\n",
    "    <li>Learning to code custom models, leads to learning custom GPU optimizations, and thats awesome!</li>\n",
    "    <li>Other way is too easy, and too boring</li>"
   ]
  },
  {
   "cell_type": "markdown",
   "metadata": {},
   "source": [
    "### 2. Whats Already Completed\n",
    "\n",
    "<b><ol>\n",
    "    <li>Data loading, processing into Tensors</li>\n",
    "    <li>Sampling & Visualizing Images</li>\n",
    "    <li>Designing & Implementing Normalization Class</li>\n",
    "    <li>Define Custom Kernel Initializer</li>\n",
    "    <li>Define Custom Activation Functions</li>\n",
    "    <li>Designing & Implementing Custom Dense Layer</li>\n",
    "    <li>Build Custom Model, with number of layers & units as hyper parameters</li>\n",
    "    </ol></b>"
   ]
  },
  {
   "cell_type": "markdown",
   "metadata": {},
   "source": [
    "### 3. Whats Yet to be Done\n",
    "\n",
    "<b><ol>\n",
    "    <li>Building Custome Layer to Implement Flattening</li>\n",
    "    <li>Build Custom Implementation of Loss 'Ndam'</li>\n",
    "    <li>Build Custom Implementation of Optimizer 'Sparse Categorical Cross Entropy'</li>\n",
    "    <li>Build Custom Implementations of All major Layer types, CNN, LSTM, RNN, etc.</li>\n",
    "</ol></b>"
   ]
  },
  {
   "cell_type": "code",
   "execution_count": 180,
   "metadata": {},
   "outputs": [],
   "source": [
    "# Load Libraries\n",
    "import tensorflow as tf\n",
    "import tensorflow.keras as keras\n",
    "import os\n",
    "import matplotlib.pyplot as plt\n",
    "import seaborn as sns\n",
    "import numpy as np"
   ]
  },
  {
   "cell_type": "code",
   "execution_count": 2,
   "metadata": {},
   "outputs": [],
   "source": [
    "# Define Work Space\n",
    "work_dir = os.curdir\n",
    "data_dir = os.path.join(work_dir,'datasets')\n",
    "log_dir = os.path.join(work_dir,'logs')"
   ]
  },
  {
   "cell_type": "code",
   "execution_count": 3,
   "metadata": {},
   "outputs": [],
   "source": [
    "def LoadData(): # Load the Data and convert them to tensors\n",
    "    (X_train,y_train),(X_test,y_test) = tf.keras.datasets.mnist.load_data(path='mnist.npz')\n",
    "    X_train = tf.constant(X_train,dtype='float32')\n",
    "    X_test = tf.constant(X_test,dtype='float32')\n",
    "    y_train = tf.constant(y_train,dtype='float32')\n",
    "    y_test = tf.constant(y_test,dtype='float32')\n",
    "    return ((X_train,y_train),(X_test,y_test))"
   ]
  },
  {
   "cell_type": "code",
   "execution_count": 4,
   "metadata": {},
   "outputs": [],
   "source": [
    "(X_train,y_train),(X_test,y_test) = LoadData()"
   ]
  },
  {
   "cell_type": "code",
   "execution_count": 5,
   "metadata": {},
   "outputs": [
    {
     "data": {
      "image/png": "[encoded data removed]",
      "text/plain": [
       "<Figure size 960x320 with 10 Axes>"
      ]
     },
     "metadata": {},
     "output_type": "display_data"
    }
   ],
   "source": [
    "# Sample & Visualize Images\n",
    "fig,ax = plt.subplots(nrows=2,ncols=5,figsize=(12,4),dpi=80)\n",
    "for i in range(2):\n",
    "    for j in range(5):\n",
    "        dig = i*5 + j\n",
    "        bool_list = (y_train == dig)\n",
    "        idx = np.random.randint(low=0,high=1000)\n",
    "        X_sample = X_train[bool_list][idx]\n",
    "        y_sample = y_train[bool_list][idx]\n",
    "        ax[i][j].imshow(np.array(X_sample),cmap='Greys')\n",
    "        ax[i][j].title.set_text(dig)\n",
    "        ax[i][j].tick_params(axis='x',which='both',bottom=False,top=False,labelbottom=False)\n",
    "        ax[i][j].tick_params(axis='y',which='both',left=False,right=False,labelleft=False)"
   ]
  },
  {
   "cell_type": "markdown",
   "metadata": {},
   "source": [
    "## Custom Normalization Layer"
   ]
  },
  {
   "cell_type": "code",
   "execution_count": 6,
   "metadata": {},
   "outputs": [],
   "source": [
    "# Custom Implementation of Normalization Layer\n",
    "class MyNormalizationLayer(tf.keras.layers.Layer):\n",
    "    def __init__(self,epsilon=0.0001,**kwargs):\n",
    "        super().__init__(**kwargs)\n",
    "        self.epsilon = epsilon\n",
    "        \n",
    "    def build(self,batch_input_shape):\n",
    "        self.alpha = tf.Variable(np.ones(shape=batch_input_shape[-1:]),dtype='float32')\n",
    "        self.beta = tf.Variable(np.zeros(shape=batch_input_shape[-1:]),dtype='float32')\n",
    "    \n",
    "    def call(self,inputs):\n",
    "        if len(inputs.shape) == 1:\n",
    "            mu,var = tf.nn.moments(inputs, axes=0, keepdims=True)\n",
    "        else:\n",
    "            mu,var = tf.nn.moments(inputs, axes=1, keepdims=True)\n",
    "        std = tf.math.sqrt(var)\n",
    "        return self.alpha*(inputs-mu)/(std + self.epsilon) + self.beta\n",
    "    \n",
    "    def compute_output_shape(self,batch_input_shape):\n",
    "        return batch_input_shape\n",
    "    \n",
    "    def get_config():\n",
    "        base_config =super().get_config()\n",
    "        return {**base_config,'epsilon':self.epsilon}"
   ]
  },
  {
   "cell_type": "markdown",
   "metadata": {},
   "source": [
    "## Custom Kernel Initializers"
   ]
  },
  {
   "cell_type": "code",
   "execution_count": 171,
   "metadata": {},
   "outputs": [],
   "source": [
    "def my_glorot_normal(shape,dtype=tf.float32,seed=42): # Custom Implementation of Kernel Initialization function\n",
    "    stddev = tf.sqrt(2. / (shape[0] + shape[1]))\n",
    "    return tf.random.normal(shape=shape,stddev=stddev,seed=seed)"
   ]
  },
  {
   "cell_type": "code",
   "execution_count": 187,
   "metadata": {},
   "outputs": [
    {
     "data": {
      "text/plain": [
       "<matplotlib.axes._subplots.AxesSubplot at 0x16774ca2320>"
      ]
     },
     "execution_count": 187,
     "metadata": {},
     "output_type": "execute_result"
    },
    {
     "data": {
      "image/png": "[encoded data removed]",
      "text/plain": [
       "<Figure size 432x432 with 1 Axes>"
      ]
     },
     "metadata": {
      "needs_background": "light"
     },
     "output_type": "display_data"
    }
   ],
   "source": [
    "fig,ax = plt.subplots(figsize=(6,6))\n",
    "kernel_init_weights = my_glorot_normal((100,1))\n",
    "sns.kdeplot(kernel_init_weights.numpy().reshape(1,-1)[0],shade=True)"
   ]
  },
  {
   "cell_type": "markdown",
   "metadata": {},
   "source": [
    "## Custom Activation Functions"
   ]
  },
  {
   "cell_type": "code",
   "execution_count": 198,
   "metadata": {},
   "outputs": [],
   "source": [
    "def my_relu(z): # Custom Relu Activation Function\n",
    "    return tf.cast(tf.nn.leaky_relu(z,0.2),tf.float32)\n",
    "\n",
    "def my_softmax(z): # Custom Softmax Implementation\n",
    "    return tf.math.exp(z)/tf.math.reduce_sum(tf.math.exp(z))"
   ]
  },
  {
   "cell_type": "code",
   "execution_count": 216,
   "metadata": {},
   "outputs": [
    {
     "data": {
      "image/png": "[encoded data removed]",
      "text/plain": [
       "<Figure size 1152x360 with 2 Axes>"
      ]
     },
     "metadata": {
      "needs_background": "light"
     },
     "output_type": "display_data"
    }
   ],
   "source": [
    "fig,ax = plt.subplots(ncols=2,figsize=(16,5))\n",
    "x = tf.range(-100,100,dtype=tf.float32)\n",
    "sns.lineplot(x=x,y=my_relu(x),ax=ax[0])\n",
    "ax[0].grid()\n",
    "ax[0].title.set_text('My Relu Function')\n",
    "x = tf.range(-1,1,delta=0.01,dtype=tf.float32)\n",
    "sns.lineplot(x=x,y=my_softmax(x),ax=ax[1])\n",
    "ax[1].grid()\n",
    "ax[1].title.set_text('My Softmax Function')"
   ]
  },
  {
   "cell_type": "code",
   "execution_count": 8,
   "metadata": {},
   "outputs": [],
   "source": [
    "class MyDenseLayer(keras.layers.Layer): # Custom Dense Layer Implementation\n",
    "    def __init__(self,units, activation=None, **kwargs):\n",
    "        super().__init__(**kwargs)\n",
    "        self.units=units\n",
    "        self.activation = activation\n",
    "    def build(self, batch_input_shape):\n",
    "        self.kernel = self.add_weight(\n",
    "                                name='kernel',shape=[batch_input_shape[-1],self.units],\n",
    "                                initializer=my_glorot_normal)\n",
    "        self.bias = self.add_weight(name='bias', shape=[self.units], initializer='zeros')\n",
    "        \n",
    "    def call(self, X):\n",
    "        return self.activation(X @ self.kernel + self.bias)\n",
    "    \n",
    "    def compute_output_shape(self, batch_input_shape):\n",
    "        return tf.TensorShape(batch_input_shape.as_list()[:-1] + [self.units])\n",
    "    \n",
    "    def get_config(self):\n",
    "        base_config =super().get_config()\n",
    "        return {**base_config,'units':self.units,'activation':keras.activations.serialize(self.activation)}"
   ]
  },
  {
   "cell_type": "code",
   "execution_count": 164,
   "metadata": {},
   "outputs": [],
   "source": [
    "class CustomModel(tf.keras.Model):\n",
    "    \n",
    "    def __init__(self,n_layers,n_units,output_dim,**kwargs):\n",
    "        super().__init__(**kwargs)\n",
    "        self.n_layers = n_layers\n",
    "        self.n_units = n_units\n",
    "        self.output_dim = output_dim\n",
    "        self.flat_layer = tf.keras.layers.Flatten()\n",
    "        self.dense_layer1 = MyDenseLayer(n_units,activation=my_relu)\n",
    "        self.norm_layer = MyNormalizationLayer()\n",
    "        self.dense_layer = MyDenseLayer(n_units,activation=my_relu)\n",
    "        self.out_layer = MyDenseLayer(self.output_dim,activation=my_softmax)\n",
    "        \n",
    "    def call(self,inputs):\n",
    "        z = self.flat_layer(inputs)\n",
    "        z = self.dense_layer1(z)\n",
    "        for _ in  range(1 + self.n_layers):\n",
    "            z = self.norm_layer(z)\n",
    "            z = self.dense_layer(z)\n",
    "        return self.out_layer(z)"
   ]
  },
  {
   "cell_type": "code",
   "execution_count": 165,
   "metadata": {},
   "outputs": [],
   "source": [
    "# Reset Backemd and set Random Seed to make results reproduceable and comparable\n",
    "keras.backend.clear_session()\n",
    "np.random.seed(42)\n",
    "tf.random.set_seed(42)"
   ]
  },
  {
   "cell_type": "code",
   "execution_count": 166,
   "metadata": {},
   "outputs": [],
   "source": [
    "model = CustomModel(10,128,10)\n",
    "model.compile(optimizer='nadam',loss='sparse_categorical_crossentropy',metrics=['acc'])\n",
    "#model.build((32,28,28))\n",
    "#model.summary()"
   ]
  },
  {
   "cell_type": "code",
   "execution_count": 169,
   "metadata": {},
   "outputs": [
    {
     "name": "stdout",
     "output_type": "stream",
     "text": [
      "1500/1500 [==============================] - 16s 10ms/step - loss: 0.1518 - acc: 0.9559 - val_loss: 0.1291 - val_acc: 0.9622\n"
     ]
    }
   ],
   "source": [
    "history = model.fit(X_train,y_train,batch_size=32,epochs=1,validation_split=0.2)"
   ]
  },
  {
   "cell_type": "code",
   "execution_count": 170,
   "metadata": {},
   "outputs": [
    {
     "name": "stdout",
     "output_type": "stream",
     "text": [
      "313/313 [==============================] - 1s 4ms/step - loss: 0.1553 - acc: 0.9577\n"
     ]
    },
    {
     "data": {
      "text/plain": [
       "[0.15530084073543549, 0.9577000141143799]"
      ]
     },
     "execution_count": 170,
     "metadata": {},
     "output_type": "execute_result"
    }
   ],
   "source": [
    "# Evaluate the Model\n",
    "model.evaluate(X_test,y_test)"
   ]
  },
  {
   "cell_type": "markdown",
   "metadata": {},
   "source": [
    "### What to Expect in Future\n",
    "\n",
    "<b><I>Just Like a model, there is always scope for improvements for us humans</I></b>"
   ]
  },
  {
   "cell_type": "markdown",
   "metadata": {},
   "source": [
    "<h1><i>Stay Hungry, Stay Foolish </i></h1>"
   ]
  }
 ],
 "metadata": {
  "kernelspec": {
   "display_name": "Python 3",
   "language": "python",
   "name": "python3"
  },
  "language_info": {
   "codemirror_mode": {
    "name": "ipython",
    "version": 3
   },
   "file_extension": ".py",
   "mimetype": "text/x-python",
   "name": "python",
   "nbconvert_exporter": "python",
   "pygments_lexer": "ipython3",
   "version": "3.7.3"
  }
 },
 "nbformat": 4,
 "nbformat_minor": 2
}
