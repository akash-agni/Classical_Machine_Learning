{
  "nbformat": 4,
  "nbformat_minor": 0,
  "metadata": {
    "colab": {
      "name": "Santender_Bank_Transaction_Prediction_Using_LightGBM.ipynb",
      "provenance": [],
      "toc_visible": true,
      "authorship_tag": "ABX9TyOLu+DIHy6f/OkXbxq6c0pv",
      "include_colab_link": true
    },
    "kernelspec": {
      "name": "python3",
      "display_name": "Python 3"
    },
    "accelerator": "GPU"
  },
  "cells": [
    {
      "cell_type": "markdown",
      "metadata": {
        "id": "view-in-github",
        "colab_type": "text"
      },
      "source": [
        "<a href=\"https://colab.research.google.com/github/akash-agni/Machine_Learning/blob/master/Santender_Bank_Transaction_Prediction_Using_LightGBM.ipynb\" target=\"_parent\"><img src=\"https://colab.research.google.com/assets/colab-badge.svg\" alt=\"Open In Colab\"/></a>"
      ]
    },
    {
      "cell_type": "markdown",
      "metadata": {
        "id": "G0yrqoNUYkS6"
      },
      "source": [
        "# Using LightGBM to Solve Kaggles Santander Customer Transaction Prediction Challenge From Colab."
      ]
    },
    {
      "cell_type": "markdown",
      "metadata": {
        "id": "69O4CzDZbR5H"
      },
      "source": [
        "### Setting Up Kaggle API in Colab\r\n",
        "\r\n",
        "1. Get your  kaggle API Token.\r\n",
        "    1. Go to your kaggle Home Page and click on the image in top right.\r\n",
        "    2. Select Account from list.\r\n",
        "    3. Go to API Section and select Expire API.\r\n",
        "    4. Click on Create New API which downloads the Kaggle.json file.\r\n",
        "\r\n",
        "2. Upload the json file into colab notebook.\r\n",
        "    1. Select file option from right bar options.\r\n",
        "    2. Select upload file and upload kaggle json.\r\n",
        "\r\n",
        "3. Create directory for kaggle. \r\n",
        "    ! mkdir ~/.kaggle\r\n",
        "\r\n",
        "4. Install Kaggle Library\r\n",
        "    ! pip install -q kaggle\r\n",
        "\r\n",
        "5. Copy kaggle.json to kaggle folder\r\n",
        "    ! cp kaggle.json ~/.kaggle\r\n",
        "\r\n",
        "6. Change permission for json file to be executionable\r\n",
        "    ! chmod 600 ~/.kaggle/kaggle.json\r\n",
        "    \r\n",
        "7. Run API Command to get competitions files\r\n",
        "    ! kaggle competitions download -c santander-customer-transaction-prediction"
      ]
    },
    {
      "cell_type": "code",
      "metadata": {
        "id": "XY2mpY76F5wn"
      },
      "source": [
        "! pip install -q kaggle\r\n",
        "! mkdir ~/.kaggle\r\n",
        "! cp kaggle.json ~/.kaggle/\r\n",
        "! chmod 600 ~/.kaggle/kaggle.json"
      ],
      "execution_count": 1,
      "outputs": []
    },
    {
      "cell_type": "code",
      "metadata": {
        "colab": {
          "base_uri": "https://localhost:8080/"
        },
        "id": "GNXxlIEkHtQ2",
        "outputId": "f5a373a4-e29d-4e79-a0c8-9f95f10cba06"
      },
      "source": [
        "! kaggle competitions download -c santander-customer-transaction-prediction"
      ],
      "execution_count": 2,
      "outputs": [
        {
          "output_type": "stream",
          "text": [
            "Warning: Looks like you're using an outdated API Version, please consider updating (server 1.5.10 / client 1.5.4)\n",
            "Downloading train.csv.zip to /content\n",
            " 98% 122M/125M [00:00<00:00, 187MB/s] \n",
            "100% 125M/125M [00:00<00:00, 231MB/s]\n",
            "Downloading sample_submission.csv.zip to /content\n",
            "  0% 0.00/462k [00:00<?, ?B/s]\n",
            "100% 462k/462k [00:00<00:00, 155MB/s]\n",
            "Downloading test.csv.zip to /content\n",
            " 89% 111M/125M [00:00<00:00, 151MB/s] \n",
            "100% 125M/125M [00:00<00:00, 212MB/s]\n"
          ],
          "name": "stdout"
        }
      ]
    },
    {
      "cell_type": "code",
      "metadata": {
        "colab": {
          "base_uri": "https://localhost:8080/"
        },
        "id": "zB64QjuwIc1X",
        "outputId": "a4168c63-00ed-49fd-f47b-7543a14631a7"
      },
      "source": [
        "! unzip train.csv.zip\r\n",
        "! unzip test.csv.zip\r\n",
        "! unzip sample_submission.csv.zip\r\n",
        "! rm -rf train.csv.zip test.csv.zip sample_submission.csv.zip"
      ],
      "execution_count": 3,
      "outputs": [
        {
          "output_type": "stream",
          "text": [
            "Archive:  train.csv.zip\n",
            "  inflating: train.csv               \n",
            "Archive:  test.csv.zip\n",
            "  inflating: test.csv                \n",
            "Archive:  sample_submission.csv.zip\n",
            "  inflating: sample_submission.csv   \n"
          ],
          "name": "stdout"
        }
      ]
    },
    {
      "cell_type": "code",
      "metadata": {
        "colab": {
          "base_uri": "https://localhost:8080/"
        },
        "id": "GVTYJ6NX_S1l",
        "outputId": "7acd0554-0018-4dc5-a516-cea93b8fa5f3"
      },
      "source": [
        "# After running\r\n",
        "! git clone --recursive https://github.com/Microsoft/LightGBM\r\n",
        "\r\n",
        "#You can run this oneliner which will build and compile LightGBM with GPU enabled in colab:\r\n",
        "! cd LightGBM && rm -rf build && mkdir build && cd build && cmake -DUSE_GPU=1 ../../LightGBM && make -j4 && cd ../python-package && python3 setup.py install --precompile --gpu;"
      ],
      "execution_count": 4,
      "outputs": [
        {
          "output_type": "stream",
          "text": [
            "Cloning into 'LightGBM'...\n",
            "remote: Enumerating objects: 46, done.\u001b[K\n",
            "remote: Counting objects: 100% (46/46), done.\u001b[K\n",
            "remote: Compressing objects: 100% (46/46), done.\u001b[K\n",
            "remote: Total 21264 (delta 24), reused 1 (delta 0), pack-reused 21218\u001b[K\n",
            "Receiving objects: 100% (21264/21264), 16.68 MiB | 30.19 MiB/s, done.\n",
            "Resolving deltas: 100% (15577/15577), done.\n",
            "Submodule 'include/boost/compute' (https://github.com/boostorg/compute) registered for path 'external_libs/compute'\n",
            "Submodule 'eigen' (https://gitlab.com/libeigen/eigen.git) registered for path 'external_libs/eigen'\n",
            "Submodule 'external_libs/fast_double_parser' (https://github.com/lemire/fast_double_parser.git) registered for path 'external_libs/fast_double_parser'\n",
            "Submodule 'external_libs/fmt' (https://github.com/fmtlib/fmt.git) registered for path 'external_libs/fmt'\n",
            "Cloning into '/content/LightGBM/external_libs/compute'...\n",
            "remote: Enumerating objects: 21728, done.        \n",
            "remote: Total 21728 (delta 0), reused 0 (delta 0), pack-reused 21728        \n",
            "Receiving objects: 100% (21728/21728), 8.51 MiB | 27.92 MiB/s, done.\n",
            "Resolving deltas: 100% (17566/17566), done.\n",
            "Cloning into '/content/LightGBM/external_libs/eigen'...\n",
            "remote: Enumerating objects: 876, done.        \n",
            "remote: Counting objects: 100% (876/876), done.        \n",
            "remote: Compressing objects: 100% (470/470), done.        \n",
            "remote: Total 108179 (delta 612), reused 613 (delta 399), pack-reused 107303        \n",
            "Receiving objects: 100% (108179/108179), 102.28 MiB | 28.24 MiB/s, done.\n",
            "Resolving deltas: 100% (88455/88455), done.\n",
            "Cloning into '/content/LightGBM/external_libs/fast_double_parser'...\n",
            "remote: Enumerating objects: 153, done.        \n",
            "remote: Counting objects: 100% (153/153), done.        \n",
            "remote: Compressing objects: 100% (96/96), done.        \n",
            "remote: Total 653 (delta 74), reused 84 (delta 33), pack-reused 500        \n",
            "Receiving objects: 100% (653/653), 794.37 KiB | 20.37 MiB/s, done.\n",
            "Resolving deltas: 100% (328/328), done.\n",
            "Cloning into '/content/LightGBM/external_libs/fmt'...\n",
            "remote: Enumerating objects: 45, done.        \n",
            "remote: Counting objects: 100% (45/45), done.        \n",
            "remote: Compressing objects: 100% (33/33), done.        \n",
            "remote: Total 24446 (delta 17), reused 12 (delta 7), pack-reused 24401        \n",
            "Receiving objects: 100% (24446/24446), 12.08 MiB | 27.02 MiB/s, done.\n",
            "Resolving deltas: 100% (16551/16551), done.\n",
            "Submodule path 'external_libs/compute': checked out '36c89134d4013b2e5e45bc55656a18bd6141995a'\n",
            "Submodule path 'external_libs/eigen': checked out '8ba1b0f41a7950dc3e1d4ed75859e36c73311235'\n",
            "Submodule path 'external_libs/fast_double_parser': checked out 'ace60646c02dc54c57f19d644e49a61e7e7758ec'\n",
            "Submodule 'benchmark/dependencies/abseil-cpp' (https://github.com/abseil/abseil-cpp.git) registered for path 'external_libs/fast_double_parser/benchmarks/dependencies/abseil-cpp'\n",
            "Submodule 'benchmark/dependencies/double-conversion' (https://github.com/google/double-conversion.git) registered for path 'external_libs/fast_double_parser/benchmarks/dependencies/double-conversion'\n",
            "Cloning into '/content/LightGBM/external_libs/fast_double_parser/benchmarks/dependencies/abseil-cpp'...\n",
            "remote: Enumerating objects: 107, done.        \n",
            "remote: Counting objects: 100% (107/107), done.        \n",
            "remote: Compressing objects: 100% (99/99), done.        \n",
            "remote: Total 13776 (delta 43), reused 59 (delta 3), pack-reused 13669        \n",
            "Receiving objects: 100% (13776/13776), 8.98 MiB | 23.53 MiB/s, done.\n",
            "Resolving deltas: 100% (10445/10445), done.\n",
            "Cloning into '/content/LightGBM/external_libs/fast_double_parser/benchmarks/dependencies/double-conversion'...\n",
            "remote: Enumerating objects: 37, done.        \n",
            "remote: Counting objects: 100% (37/37), done.        \n",
            "remote: Compressing objects: 100% (29/29), done.        \n",
            "remote: Total 1193 (delta 18), reused 18 (delta 8), pack-reused 1156        \n",
            "Receiving objects: 100% (1193/1193), 7.05 MiB | 23.60 MiB/s, done.\n",
            "Resolving deltas: 100% (790/790), done.\n",
            "Submodule path 'external_libs/fast_double_parser/benchmarks/dependencies/abseil-cpp': checked out 'd936052d32a5b7ca08b0199a6724724aea432309'\n",
            "Submodule path 'external_libs/fast_double_parser/benchmarks/dependencies/double-conversion': checked out 'f4cb2384efa55dee0e6652f8674b05763441ab09'\n",
            "Submodule path 'external_libs/fmt': checked out 'cc09f1a6798c085c325569ef466bcdcffdc266d4'\n",
            "-- The C compiler identification is GNU 7.5.0\n",
            "-- The CXX compiler identification is GNU 7.5.0\n",
            "-- Check for working C compiler: /usr/bin/cc\n",
            "-- Check for working C compiler: /usr/bin/cc -- works\n",
            "-- Detecting C compiler ABI info\n",
            "-- Detecting C compiler ABI info - done\n",
            "-- Detecting C compile features\n",
            "-- Detecting C compile features - done\n",
            "-- Check for working CXX compiler: /usr/bin/c++\n",
            "-- Check for working CXX compiler: /usr/bin/c++ -- works\n",
            "-- Detecting CXX compiler ABI info\n",
            "-- Detecting CXX compiler ABI info - done\n",
            "-- Detecting CXX compile features\n",
            "-- Detecting CXX compile features - done\n",
            "-- Found OpenMP_C: -fopenmp (found version \"4.5\") \n",
            "-- Found OpenMP_CXX: -fopenmp (found version \"4.5\") \n",
            "-- Found OpenMP: TRUE (found version \"4.5\")  \n",
            "-- Looking for CL_VERSION_2_2\n",
            "-- Looking for CL_VERSION_2_2 - found\n",
            "-- Found OpenCL: /usr/lib/x86_64-linux-gnu/libOpenCL.so (found version \"2.2\") \n",
            "-- OpenCL include directory: /usr/include\n",
            "-- Boost version: 1.65.1\n",
            "-- Found the following Boost libraries:\n",
            "--   filesystem\n",
            "--   system\n",
            "-- Performing Test MM_PREFETCH\n",
            "-- Performing Test MM_PREFETCH - Success\n",
            "-- Using _mm_prefetch\n",
            "-- Performing Test MM_MALLOC\n",
            "-- Performing Test MM_MALLOC - Success\n",
            "-- Using _mm_malloc\n",
            "-- Configuring done\n",
            "-- Generating done\n",
            "-- Build files have been written to: /content/LightGBM/build\n",
            "\u001b[35m\u001b[1mScanning dependencies of target _lightgbm\u001b[0m\n",
            "\u001b[35m\u001b[1mScanning dependencies of target lightgbm\u001b[0m\n",
            "[  1%] \u001b[32mBuilding CXX object CMakeFiles/lightgbm.dir/src/application/application.cpp.o\u001b[0m\n",
            "[  2%] \u001b[32mBuilding CXX object CMakeFiles/_lightgbm.dir/src/boosting/gbdt.cpp.o\u001b[0m\n",
            "[  4%] \u001b[32mBuilding CXX object CMakeFiles/_lightgbm.dir/src/boosting/boosting.cpp.o\u001b[0m\n",
            "[  5%] \u001b[32mBuilding CXX object CMakeFiles/lightgbm.dir/src/main.cpp.o\u001b[0m\n",
            "[  7%] \u001b[32mBuilding CXX object CMakeFiles/_lightgbm.dir/src/boosting/gbdt_model_text.cpp.o\u001b[0m\n",
            "[  8%] \u001b[32mBuilding CXX object CMakeFiles/lightgbm.dir/src/boosting/boosting.cpp.o\u001b[0m\n",
            "[ 10%] \u001b[32mBuilding CXX object CMakeFiles/_lightgbm.dir/src/boosting/gbdt_prediction.cpp.o\u001b[0m\n",
            "[ 11%] \u001b[32mBuilding CXX object CMakeFiles/_lightgbm.dir/src/boosting/prediction_early_stop.cpp.o\u001b[0m\n",
            "[ 13%] \u001b[32mBuilding CXX object CMakeFiles/_lightgbm.dir/src/io/bin.cpp.o\u001b[0m\n",
            "[ 14%] \u001b[32mBuilding CXX object CMakeFiles/_lightgbm.dir/src/io/config.cpp.o\u001b[0m\n",
            "[ 15%] \u001b[32mBuilding CXX object CMakeFiles/_lightgbm.dir/src/io/config_auto.cpp.o\u001b[0m\n",
            "[ 17%] \u001b[32mBuilding CXX object CMakeFiles/_lightgbm.dir/src/io/dataset.cpp.o\u001b[0m\n",
            "[ 18%] \u001b[32mBuilding CXX object CMakeFiles/lightgbm.dir/src/boosting/gbdt.cpp.o\u001b[0m\n",
            "[ 20%] \u001b[32mBuilding CXX object CMakeFiles/_lightgbm.dir/src/io/dataset_loader.cpp.o\u001b[0m\n",
            "[ 21%] \u001b[32mBuilding CXX object CMakeFiles/lightgbm.dir/src/boosting/gbdt_model_text.cpp.o\u001b[0m\n",
            "[ 23%] \u001b[32mBuilding CXX object CMakeFiles/_lightgbm.dir/src/io/file_io.cpp.o\u001b[0m\n",
            "[ 24%] \u001b[32mBuilding CXX object CMakeFiles/_lightgbm.dir/src/io/json11.cpp.o\u001b[0m\n",
            "[ 26%] \u001b[32mBuilding CXX object CMakeFiles/_lightgbm.dir/src/io/metadata.cpp.o\u001b[0m\n",
            "[ 27%] \u001b[32mBuilding CXX object CMakeFiles/_lightgbm.dir/src/io/parser.cpp.o\u001b[0m\n",
            "[ 28%] \u001b[32mBuilding CXX object CMakeFiles/_lightgbm.dir/src/io/train_share_states.cpp.o\u001b[0m\n",
            "[ 30%] \u001b[32mBuilding CXX object CMakeFiles/lightgbm.dir/src/boosting/gbdt_prediction.cpp.o\u001b[0m\n",
            "[ 31%] \u001b[32mBuilding CXX object CMakeFiles/_lightgbm.dir/src/io/tree.cpp.o\u001b[0m\n",
            "[ 33%] \u001b[32mBuilding CXX object CMakeFiles/_lightgbm.dir/src/metric/dcg_calculator.cpp.o\u001b[0m\n",
            "[ 34%] \u001b[32mBuilding CXX object CMakeFiles/_lightgbm.dir/src/metric/metric.cpp.o\u001b[0m\n",
            "[ 36%] \u001b[32mBuilding CXX object CMakeFiles/lightgbm.dir/src/boosting/prediction_early_stop.cpp.o\u001b[0m\n",
            "[ 37%] \u001b[32mBuilding CXX object CMakeFiles/lightgbm.dir/src/io/bin.cpp.o\u001b[0m\n",
            "[ 39%] \u001b[32mBuilding CXX object CMakeFiles/_lightgbm.dir/src/network/ifaddrs_patch.cpp.o\u001b[0m\n",
            "[ 40%] \u001b[32mBuilding CXX object CMakeFiles/_lightgbm.dir/src/network/linker_topo.cpp.o\u001b[0m\n",
            "[ 42%] \u001b[32mBuilding CXX object CMakeFiles/_lightgbm.dir/src/network/linkers_mpi.cpp.o\u001b[0m\n",
            "[ 43%] \u001b[32mBuilding CXX object CMakeFiles/_lightgbm.dir/src/network/linkers_socket.cpp.o\u001b[0m\n",
            "[ 44%] \u001b[32mBuilding CXX object CMakeFiles/_lightgbm.dir/src/network/network.cpp.o\u001b[0m\n",
            "[ 46%] \u001b[32mBuilding CXX object CMakeFiles/_lightgbm.dir/src/objective/objective_function.cpp.o\u001b[0m\n",
            "[ 47%] \u001b[32mBuilding CXX object CMakeFiles/_lightgbm.dir/src/treelearner/cuda_tree_learner.cpp.o\u001b[0m\n",
            "[ 49%] \u001b[32mBuilding CXX object CMakeFiles/_lightgbm.dir/src/treelearner/data_parallel_tree_learner.cpp.o\u001b[0m\n",
            "[ 50%] \u001b[32mBuilding CXX object CMakeFiles/_lightgbm.dir/src/treelearner/feature_parallel_tree_learner.cpp.o\u001b[0m\n",
            "[ 52%] \u001b[32mBuilding CXX object CMakeFiles/_lightgbm.dir/src/treelearner/gpu_tree_learner.cpp.o\u001b[0m\n",
            "[ 53%] \u001b[32mBuilding CXX object CMakeFiles/lightgbm.dir/src/io/config.cpp.o\u001b[0m\n",
            "[ 55%] \u001b[32mBuilding CXX object CMakeFiles/_lightgbm.dir/src/treelearner/linear_tree_learner.cpp.o\u001b[0m\n",
            "[ 56%] \u001b[32mBuilding CXX object CMakeFiles/_lightgbm.dir/src/treelearner/serial_tree_learner.cpp.o\u001b[0m\n",
            "[ 57%] \u001b[32mBuilding CXX object CMakeFiles/lightgbm.dir/src/io/config_auto.cpp.o\u001b[0m\n",
            "[ 59%] \u001b[32mBuilding CXX object CMakeFiles/lightgbm.dir/src/io/dataset.cpp.o\u001b[0m\n",
            "[ 60%] \u001b[32mBuilding CXX object CMakeFiles/_lightgbm.dir/src/treelearner/tree_learner.cpp.o\u001b[0m\n",
            "[ 62%] \u001b[32mBuilding CXX object CMakeFiles/_lightgbm.dir/src/treelearner/voting_parallel_tree_learner.cpp.o\u001b[0m\n",
            "[ 63%] \u001b[32mBuilding CXX object CMakeFiles/lightgbm.dir/src/io/dataset_loader.cpp.o\u001b[0m\n",
            "[ 65%] \u001b[32mBuilding CXX object CMakeFiles/_lightgbm.dir/src/c_api.cpp.o\u001b[0m\n",
            "[ 66%] \u001b[32mBuilding CXX object CMakeFiles/lightgbm.dir/src/io/file_io.cpp.o\u001b[0m\n",
            "[ 68%] \u001b[32mBuilding CXX object CMakeFiles/lightgbm.dir/src/io/json11.cpp.o\u001b[0m\n",
            "[ 69%] \u001b[32mBuilding CXX object CMakeFiles/lightgbm.dir/src/io/metadata.cpp.o\u001b[0m\n",
            "[ 71%] \u001b[32mBuilding CXX object CMakeFiles/lightgbm.dir/src/io/parser.cpp.o\u001b[0m\n",
            "[ 72%] \u001b[32mBuilding CXX object CMakeFiles/lightgbm.dir/src/io/train_share_states.cpp.o\u001b[0m\n",
            "[ 73%] \u001b[32mBuilding CXX object CMakeFiles/lightgbm.dir/src/io/tree.cpp.o\u001b[0m\n",
            "[ 75%] \u001b[32mBuilding CXX object CMakeFiles/lightgbm.dir/src/metric/dcg_calculator.cpp.o\u001b[0m\n",
            "[ 76%] \u001b[32mBuilding CXX object CMakeFiles/lightgbm.dir/src/metric/metric.cpp.o\u001b[0m\n",
            "[ 78%] \u001b[32mBuilding CXX object CMakeFiles/lightgbm.dir/src/network/ifaddrs_patch.cpp.o\u001b[0m\n",
            "[ 79%] \u001b[32mBuilding CXX object CMakeFiles/lightgbm.dir/src/network/linker_topo.cpp.o\u001b[0m\n",
            "[ 81%] \u001b[32mBuilding CXX object CMakeFiles/lightgbm.dir/src/network/linkers_mpi.cpp.o\u001b[0m\n",
            "[ 82%] \u001b[32mBuilding CXX object CMakeFiles/lightgbm.dir/src/network/linkers_socket.cpp.o\u001b[0m\n",
            "[ 84%] \u001b[32mBuilding CXX object CMakeFiles/lightgbm.dir/src/network/network.cpp.o\u001b[0m\n",
            "[ 85%] \u001b[32mBuilding CXX object CMakeFiles/lightgbm.dir/src/objective/objective_function.cpp.o\u001b[0m\n",
            "[ 86%] \u001b[32mBuilding CXX object CMakeFiles/lightgbm.dir/src/treelearner/cuda_tree_learner.cpp.o\u001b[0m\n",
            "[ 88%] \u001b[32mBuilding CXX object CMakeFiles/lightgbm.dir/src/treelearner/data_parallel_tree_learner.cpp.o\u001b[0m\n",
            "[ 89%] \u001b[32mBuilding CXX object CMakeFiles/lightgbm.dir/src/treelearner/feature_parallel_tree_learner.cpp.o\u001b[0m\n",
            "[ 91%] \u001b[32m\u001b[1mLinking CXX shared library ../lib_lightgbm.so\u001b[0m\n",
            "[ 91%] Built target _lightgbm\n",
            "[ 92%] \u001b[32mBuilding CXX object CMakeFiles/lightgbm.dir/src/treelearner/gpu_tree_learner.cpp.o\u001b[0m\n",
            "[ 94%] \u001b[32mBuilding CXX object CMakeFiles/lightgbm.dir/src/treelearner/linear_tree_learner.cpp.o\u001b[0m\n",
            "[ 95%] \u001b[32mBuilding CXX object CMakeFiles/lightgbm.dir/src/treelearner/serial_tree_learner.cpp.o\u001b[0m\n",
            "[ 97%] \u001b[32mBuilding CXX object CMakeFiles/lightgbm.dir/src/treelearner/tree_learner.cpp.o\u001b[0m\n",
            "[ 98%] \u001b[32mBuilding CXX object CMakeFiles/lightgbm.dir/src/treelearner/voting_parallel_tree_learner.cpp.o\u001b[0m\n",
            "[100%] \u001b[32m\u001b[1mLinking CXX executable ../lightgbm\u001b[0m\n",
            "[100%] Built target lightgbm\n",
            "running install\n",
            "running build\n",
            "running build_py\n",
            "INFO:root:Generating grammar tables from /usr/lib/python3.6/lib2to3/Grammar.txt\n",
            "INFO:root:Generating grammar tables from /usr/lib/python3.6/lib2to3/PatternGrammar.txt\n",
            "creating build\n",
            "creating build/lib\n",
            "creating build/lib/lightgbm\n",
            "copying lightgbm/libpath.py -> build/lib/lightgbm\n",
            "copying lightgbm/engine.py -> build/lib/lightgbm\n",
            "copying lightgbm/__init__.py -> build/lib/lightgbm\n",
            "copying lightgbm/basic.py -> build/lib/lightgbm\n",
            "copying lightgbm/callback.py -> build/lib/lightgbm\n",
            "copying lightgbm/compat.py -> build/lib/lightgbm\n",
            "copying lightgbm/plotting.py -> build/lib/lightgbm\n",
            "copying lightgbm/dask.py -> build/lib/lightgbm\n",
            "copying lightgbm/sklearn.py -> build/lib/lightgbm\n",
            "running egg_info\n",
            "creating lightgbm.egg-info\n",
            "writing lightgbm.egg-info/PKG-INFO\n",
            "writing dependency_links to lightgbm.egg-info/dependency_links.txt\n",
            "writing requirements to lightgbm.egg-info/requires.txt\n",
            "writing top-level names to lightgbm.egg-info/top_level.txt\n",
            "writing manifest file 'lightgbm.egg-info/SOURCES.txt'\n",
            "reading manifest template 'MANIFEST.in'\n",
            "no previously-included directories found matching 'build'\n",
            "warning: no files found matching 'LICENSE'\n",
            "warning: no files found matching '*.txt'\n",
            "warning: no files found matching '*.so' under directory 'lightgbm'\n",
            "warning: no files found matching 'compile/CMakeLists.txt'\n",
            "warning: no files found matching 'compile/CMakeIntegratedOpenCL.cmake'\n",
            "warning: no files found matching '*.so' under directory 'compile'\n",
            "warning: no files found matching '*.dll' under directory 'compile/Release'\n",
            "warning: no files found matching 'compile/external_libs/compute/CMakeLists.txt'\n",
            "warning: no files found matching '*' under directory 'compile/external_libs/compute/cmake'\n",
            "warning: no files found matching '*' under directory 'compile/external_libs/compute/include'\n",
            "warning: no files found matching '*' under directory 'compile/external_libs/compute/meta'\n",
            "warning: no files found matching 'compile/external_libs/eigen/CMakeLists.txt'\n",
            "warning: no files found matching 'compile/external_libs/eigen/Eigen/Cholesky'\n",
            "warning: no files found matching 'compile/external_libs/eigen/Eigen/Core'\n",
            "warning: no files found matching 'compile/external_libs/eigen/Eigen/Dense'\n",
            "warning: no files found matching 'compile/external_libs/eigen/Eigen/Eigenvalues'\n",
            "warning: no files found matching 'compile/external_libs/eigen/Eigen/Geometry'\n",
            "warning: no files found matching 'compile/external_libs/eigen/Eigen/Householder'\n",
            "warning: no files found matching 'compile/external_libs/eigen/Eigen/Jacobi'\n",
            "warning: no files found matching 'compile/external_libs/eigen/Eigen/LU'\n",
            "warning: no files found matching 'compile/external_libs/eigen/Eigen/QR'\n",
            "warning: no files found matching 'compile/external_libs/eigen/Eigen/SVD'\n",
            "warning: no files found matching '*' under directory 'compile/external_libs/eigen/Eigen/src/Cholesky'\n",
            "warning: no files found matching '*' under directory 'compile/external_libs/eigen/Eigen/src/Core'\n",
            "warning: no files found matching '*' under directory 'compile/external_libs/eigen/Eigen/src/Eigenvalues'\n",
            "warning: no files found matching '*' under directory 'compile/external_libs/eigen/Eigen/src/Geometry'\n",
            "warning: no files found matching '*' under directory 'compile/external_libs/eigen/Eigen/src/Householder'\n",
            "warning: no files found matching '*' under directory 'compile/external_libs/eigen/Eigen/src/Jacobi'\n",
            "warning: no files found matching '*' under directory 'compile/external_libs/eigen/Eigen/src/LU'\n",
            "warning: no files found matching '*' under directory 'compile/external_libs/eigen/Eigen/src/misc'\n",
            "warning: no files found matching '*' under directory 'compile/external_libs/eigen/Eigen/src/plugins'\n",
            "warning: no files found matching '*' under directory 'compile/external_libs/eigen/Eigen/src/QR'\n",
            "warning: no files found matching '*' under directory 'compile/external_libs/eigen/Eigen/src/SVD'\n",
            "warning: no files found matching 'compile/external_libs/fast_double_parser/CMakeLists.txt'\n",
            "warning: no files found matching 'compile/external_libs/fast_double_parser/LICENSE'\n",
            "warning: no files found matching 'compile/external_libs/fast_double_parser/LICENSE.BSL'\n",
            "warning: no files found matching '*' under directory 'compile/external_libs/fast_double_parser/include'\n",
            "warning: no files found matching 'compile/external_libs/fmt/CMakeLists.txt'\n",
            "warning: no files found matching 'compile/external_libs/fmt/LICENSE.rst'\n",
            "warning: no files found matching '*' under directory 'compile/external_libs/fmt/include'\n",
            "warning: no files found matching '*' under directory 'compile/include'\n",
            "warning: no files found matching '*' under directory 'compile/src'\n",
            "warning: no files found matching 'LightGBM.sln' under directory 'compile/windows'\n",
            "warning: no files found matching 'LightGBM.vcxproj' under directory 'compile/windows'\n",
            "warning: no files found matching '*.dll' under directory 'compile/windows/x64/DLL'\n",
            "warning: no previously-included files matching '*.py[co]' found anywhere in distribution\n",
            "warning: no previously-included files found matching 'compile/external_libs/compute/.git'\n",
            "writing manifest file 'lightgbm.egg-info/SOURCES.txt'\n",
            "copying lightgbm/VERSION.txt -> build/lib/lightgbm\n",
            "running install_lib\n",
            "copying build/lib/lightgbm/VERSION.txt -> /usr/local/lib/python3.6/dist-packages/lightgbm\n",
            "copying build/lib/lightgbm/libpath.py -> /usr/local/lib/python3.6/dist-packages/lightgbm\n",
            "copying build/lib/lightgbm/engine.py -> /usr/local/lib/python3.6/dist-packages/lightgbm\n",
            "copying build/lib/lightgbm/__init__.py -> /usr/local/lib/python3.6/dist-packages/lightgbm\n",
            "copying build/lib/lightgbm/basic.py -> /usr/local/lib/python3.6/dist-packages/lightgbm\n",
            "copying build/lib/lightgbm/callback.py -> /usr/local/lib/python3.6/dist-packages/lightgbm\n",
            "copying build/lib/lightgbm/compat.py -> /usr/local/lib/python3.6/dist-packages/lightgbm\n",
            "copying build/lib/lightgbm/plotting.py -> /usr/local/lib/python3.6/dist-packages/lightgbm\n",
            "copying build/lib/lightgbm/dask.py -> /usr/local/lib/python3.6/dist-packages/lightgbm\n",
            "copying build/lib/lightgbm/sklearn.py -> /usr/local/lib/python3.6/dist-packages/lightgbm\n",
            "INFO:LightGBM:Installing lib_lightgbm from: ['../lib_lightgbm.so']\n",
            "copying ../lib_lightgbm.so -> /usr/local/lib/python3.6/dist-packages/lightgbm\n",
            "byte-compiling /usr/local/lib/python3.6/dist-packages/lightgbm/libpath.py to libpath.cpython-36.pyc\n",
            "byte-compiling /usr/local/lib/python3.6/dist-packages/lightgbm/engine.py to engine.cpython-36.pyc\n",
            "byte-compiling /usr/local/lib/python3.6/dist-packages/lightgbm/__init__.py to __init__.cpython-36.pyc\n",
            "byte-compiling /usr/local/lib/python3.6/dist-packages/lightgbm/basic.py to basic.cpython-36.pyc\n",
            "byte-compiling /usr/local/lib/python3.6/dist-packages/lightgbm/callback.py to callback.cpython-36.pyc\n",
            "byte-compiling /usr/local/lib/python3.6/dist-packages/lightgbm/compat.py to compat.cpython-36.pyc\n",
            "byte-compiling /usr/local/lib/python3.6/dist-packages/lightgbm/plotting.py to plotting.cpython-36.pyc\n",
            "byte-compiling /usr/local/lib/python3.6/dist-packages/lightgbm/dask.py to dask.cpython-36.pyc\n",
            "byte-compiling /usr/local/lib/python3.6/dist-packages/lightgbm/sklearn.py to sklearn.cpython-36.pyc\n",
            "running install_egg_info\n",
            "Copying lightgbm.egg-info to /usr/local/lib/python3.6/dist-packages/lightgbm-3.1.1.99-py3.6.egg-info\n",
            "running install_scripts\n"
          ],
          "name": "stdout"
        }
      ]
    },
    {
      "cell_type": "code",
      "metadata": {
        "id": "tTReJBVEH0Zb"
      },
      "source": [
        "import pandas as pd\r\n",
        "import numpy as np\r\n",
        "import matplotlib.pyplot as plt\r\n",
        "import seaborn as sns\r\n",
        "from scipy.stats import skew, kurtosis\r\n",
        "#! pip install -U imbalanced-learn\r\n",
        "#import imblearn\r\n",
        "import lightgbm as lgb"
      ],
      "execution_count": 5,
      "outputs": []
    },
    {
      "cell_type": "code",
      "metadata": {
        "id": "u8UGM9YCOECy"
      },
      "source": [
        "#import tensorflow as tf\r\n",
        "from sklearn.model_selection import train_test_split\r\n",
        "from sklearn.preprocessing import StandardScaler\r\n",
        "from sklearn.pipeline import Pipeline\r\n",
        "from sklearn import metrics"
      ],
      "execution_count": 6,
      "outputs": []
    },
    {
      "cell_type": "code",
      "metadata": {
        "colab": {
          "base_uri": "https://localhost:8080/",
          "height": 208
        },
        "id": "SAOh-miRIHk7",
        "outputId": "8796120f-f6ae-46b0-cb96-7364094a5410"
      },
      "source": [
        "df = pd.read_csv('train.csv')\r\n",
        "print(f'Shape of Training Data is : {df.shape[0]} rows and {df.shape[1]} columns')\r\n",
        "df.sample(3)"
      ],
      "execution_count": 9,
      "outputs": [
        {
          "output_type": "stream",
          "text": [
            "Shape of Training Data is : 200000 rows and 202 columns\n"
          ],
          "name": "stdout"
        },
        {
          "output_type": "execute_result",
          "data": {
            "text/html": [
              "<div>\n",
              "<style scoped>\n",
              "    .dataframe tbody tr th:only-of-type {\n",
              "        vertical-align: middle;\n",
              "    }\n",
              "\n",
              "    .dataframe tbody tr th {\n",
              "        vertical-align: top;\n",
              "    }\n",
              "\n",
              "    .dataframe thead th {\n",
              "        text-align: right;\n",
              "    }\n",
              "</style>\n",
              "<table border=\"1\" class=\"dataframe\">\n",
              "  <thead>\n",
              "    <tr style=\"text-align: right;\">\n",
              "      <th></th>\n",
              "      <th>ID_code</th>\n",
              "      <th>target</th>\n",
              "      <th>var_0</th>\n",
              "      <th>var_1</th>\n",
              "      <th>var_2</th>\n",
              "      <th>var_3</th>\n",
              "      <th>var_4</th>\n",
              "      <th>var_5</th>\n",
              "      <th>var_6</th>\n",
              "      <th>var_7</th>\n",
              "      <th>var_8</th>\n",
              "      <th>var_9</th>\n",
              "      <th>var_10</th>\n",
              "      <th>var_11</th>\n",
              "      <th>var_12</th>\n",
              "      <th>var_13</th>\n",
              "      <th>var_14</th>\n",
              "      <th>var_15</th>\n",
              "      <th>var_16</th>\n",
              "      <th>var_17</th>\n",
              "      <th>var_18</th>\n",
              "      <th>var_19</th>\n",
              "      <th>var_20</th>\n",
              "      <th>var_21</th>\n",
              "      <th>var_22</th>\n",
              "      <th>var_23</th>\n",
              "      <th>var_24</th>\n",
              "      <th>var_25</th>\n",
              "      <th>var_26</th>\n",
              "      <th>var_27</th>\n",
              "      <th>var_28</th>\n",
              "      <th>var_29</th>\n",
              "      <th>var_30</th>\n",
              "      <th>var_31</th>\n",
              "      <th>var_32</th>\n",
              "      <th>var_33</th>\n",
              "      <th>var_34</th>\n",
              "      <th>var_35</th>\n",
              "      <th>var_36</th>\n",
              "      <th>var_37</th>\n",
              "      <th>...</th>\n",
              "      <th>var_160</th>\n",
              "      <th>var_161</th>\n",
              "      <th>var_162</th>\n",
              "      <th>var_163</th>\n",
              "      <th>var_164</th>\n",
              "      <th>var_165</th>\n",
              "      <th>var_166</th>\n",
              "      <th>var_167</th>\n",
              "      <th>var_168</th>\n",
              "      <th>var_169</th>\n",
              "      <th>var_170</th>\n",
              "      <th>var_171</th>\n",
              "      <th>var_172</th>\n",
              "      <th>var_173</th>\n",
              "      <th>var_174</th>\n",
              "      <th>var_175</th>\n",
              "      <th>var_176</th>\n",
              "      <th>var_177</th>\n",
              "      <th>var_178</th>\n",
              "      <th>var_179</th>\n",
              "      <th>var_180</th>\n",
              "      <th>var_181</th>\n",
              "      <th>var_182</th>\n",
              "      <th>var_183</th>\n",
              "      <th>var_184</th>\n",
              "      <th>var_185</th>\n",
              "      <th>var_186</th>\n",
              "      <th>var_187</th>\n",
              "      <th>var_188</th>\n",
              "      <th>var_189</th>\n",
              "      <th>var_190</th>\n",
              "      <th>var_191</th>\n",
              "      <th>var_192</th>\n",
              "      <th>var_193</th>\n",
              "      <th>var_194</th>\n",
              "      <th>var_195</th>\n",
              "      <th>var_196</th>\n",
              "      <th>var_197</th>\n",
              "      <th>var_198</th>\n",
              "      <th>var_199</th>\n",
              "    </tr>\n",
              "  </thead>\n",
              "  <tbody>\n",
              "    <tr>\n",
              "      <th>72770</th>\n",
              "      <td>train_72770</td>\n",
              "      <td>1</td>\n",
              "      <td>9.1131</td>\n",
              "      <td>4.7830</td>\n",
              "      <td>8.6771</td>\n",
              "      <td>6.4193</td>\n",
              "      <td>11.6221</td>\n",
              "      <td>-21.3532</td>\n",
              "      <td>5.7915</td>\n",
              "      <td>22.7902</td>\n",
              "      <td>3.1438</td>\n",
              "      <td>7.2629</td>\n",
              "      <td>-3.3504</td>\n",
              "      <td>7.8759</td>\n",
              "      <td>13.9751</td>\n",
              "      <td>2.9007</td>\n",
              "      <td>7.9522</td>\n",
              "      <td>14.5470</td>\n",
              "      <td>5.7019</td>\n",
              "      <td>-4.3332</td>\n",
              "      <td>21.8533</td>\n",
              "      <td>17.1694</td>\n",
              "      <td>14.1612</td>\n",
              "      <td>9.5043</td>\n",
              "      <td>5.6870</td>\n",
              "      <td>2.0530</td>\n",
              "      <td>8.9329</td>\n",
              "      <td>13.4215</td>\n",
              "      <td>-8.2310</td>\n",
              "      <td>-3.3703</td>\n",
              "      <td>5.4711</td>\n",
              "      <td>6.0639</td>\n",
              "      <td>9.9043</td>\n",
              "      <td>7.4320</td>\n",
              "      <td>-0.5861</td>\n",
              "      <td>20.1745</td>\n",
              "      <td>11.0434</td>\n",
              "      <td>1.4971</td>\n",
              "      <td>2.4919</td>\n",
              "      <td>3.9566</td>\n",
              "      <td>...</td>\n",
              "      <td>18.6303</td>\n",
              "      <td>5.5905</td>\n",
              "      <td>8.0836</td>\n",
              "      <td>12.0534</td>\n",
              "      <td>-1.7134</td>\n",
              "      <td>27.4819</td>\n",
              "      <td>2.4859</td>\n",
              "      <td>5.8760</td>\n",
              "      <td>-1.2425</td>\n",
              "      <td>5.2076</td>\n",
              "      <td>3.6145</td>\n",
              "      <td>1.5723</td>\n",
              "      <td>19.5087</td>\n",
              "      <td>8.1547</td>\n",
              "      <td>21.7852</td>\n",
              "      <td>14.1920</td>\n",
              "      <td>3.7504</td>\n",
              "      <td>6.7356</td>\n",
              "      <td>4.5426</td>\n",
              "      <td>4.5728</td>\n",
              "      <td>-3.2520</td>\n",
              "      <td>10.6763</td>\n",
              "      <td>8.1382</td>\n",
              "      <td>6.1715</td>\n",
              "      <td>3.3318</td>\n",
              "      <td>-6.9972</td>\n",
              "      <td>5.9533</td>\n",
              "      <td>-28.2719</td>\n",
              "      <td>7.5283</td>\n",
              "      <td>0.5022</td>\n",
              "      <td>7.8339</td>\n",
              "      <td>3.9116</td>\n",
              "      <td>1.7304</td>\n",
              "      <td>1.1314</td>\n",
              "      <td>19.9238</td>\n",
              "      <td>-2.7959</td>\n",
              "      <td>9.1279</td>\n",
              "      <td>9.0038</td>\n",
              "      <td>14.1883</td>\n",
              "      <td>-22.7476</td>\n",
              "    </tr>\n",
              "    <tr>\n",
              "      <th>116215</th>\n",
              "      <td>train_116215</td>\n",
              "      <td>0</td>\n",
              "      <td>12.6031</td>\n",
              "      <td>-0.0079</td>\n",
              "      <td>7.9795</td>\n",
              "      <td>6.7950</td>\n",
              "      <td>13.4213</td>\n",
              "      <td>-13.6361</td>\n",
              "      <td>3.9097</td>\n",
              "      <td>12.1833</td>\n",
              "      <td>4.2239</td>\n",
              "      <td>8.5616</td>\n",
              "      <td>-2.1658</td>\n",
              "      <td>-13.5333</td>\n",
              "      <td>13.7859</td>\n",
              "      <td>2.1489</td>\n",
              "      <td>4.9659</td>\n",
              "      <td>14.9405</td>\n",
              "      <td>8.4194</td>\n",
              "      <td>-7.2231</td>\n",
              "      <td>4.0174</td>\n",
              "      <td>12.3439</td>\n",
              "      <td>7.6491</td>\n",
              "      <td>17.4168</td>\n",
              "      <td>3.6851</td>\n",
              "      <td>2.8948</td>\n",
              "      <td>4.8579</td>\n",
              "      <td>13.2146</td>\n",
              "      <td>-8.1885</td>\n",
              "      <td>-2.8118</td>\n",
              "      <td>4.9233</td>\n",
              "      <td>6.7837</td>\n",
              "      <td>4.5547</td>\n",
              "      <td>6.9943</td>\n",
              "      <td>0.9892</td>\n",
              "      <td>12.1417</td>\n",
              "      <td>11.5904</td>\n",
              "      <td>2.3081</td>\n",
              "      <td>2.2066</td>\n",
              "      <td>1.7418</td>\n",
              "      <td>...</td>\n",
              "      <td>23.4221</td>\n",
              "      <td>5.2982</td>\n",
              "      <td>7.9865</td>\n",
              "      <td>8.0627</td>\n",
              "      <td>-0.7228</td>\n",
              "      <td>15.5515</td>\n",
              "      <td>3.6152</td>\n",
              "      <td>-6.1895</td>\n",
              "      <td>4.7111</td>\n",
              "      <td>5.4834</td>\n",
              "      <td>4.0407</td>\n",
              "      <td>4.1797</td>\n",
              "      <td>16.8010</td>\n",
              "      <td>1.4421</td>\n",
              "      <td>6.2587</td>\n",
              "      <td>10.8484</td>\n",
              "      <td>-5.9934</td>\n",
              "      <td>15.6594</td>\n",
              "      <td>-1.6178</td>\n",
              "      <td>1.7290</td>\n",
              "      <td>2.7652</td>\n",
              "      <td>10.5912</td>\n",
              "      <td>-1.6086</td>\n",
              "      <td>7.7187</td>\n",
              "      <td>-0.9298</td>\n",
              "      <td>6.3304</td>\n",
              "      <td>14.0870</td>\n",
              "      <td>-30.0679</td>\n",
              "      <td>15.2072</td>\n",
              "      <td>0.3970</td>\n",
              "      <td>4.3421</td>\n",
              "      <td>8.3897</td>\n",
              "      <td>1.4871</td>\n",
              "      <td>-1.3986</td>\n",
              "      <td>14.0780</td>\n",
              "      <td>-1.9388</td>\n",
              "      <td>3.8953</td>\n",
              "      <td>10.6144</td>\n",
              "      <td>16.0924</td>\n",
              "      <td>20.7105</td>\n",
              "    </tr>\n",
              "    <tr>\n",
              "      <th>118561</th>\n",
              "      <td>train_118561</td>\n",
              "      <td>0</td>\n",
              "      <td>11.4269</td>\n",
              "      <td>4.9149</td>\n",
              "      <td>14.7455</td>\n",
              "      <td>5.6882</td>\n",
              "      <td>11.8976</td>\n",
              "      <td>-4.2012</td>\n",
              "      <td>6.1780</td>\n",
              "      <td>20.7242</td>\n",
              "      <td>0.9946</td>\n",
              "      <td>9.7886</td>\n",
              "      <td>3.4936</td>\n",
              "      <td>3.0854</td>\n",
              "      <td>13.8707</td>\n",
              "      <td>-0.0135</td>\n",
              "      <td>12.0040</td>\n",
              "      <td>14.3754</td>\n",
              "      <td>10.8677</td>\n",
              "      <td>-13.3102</td>\n",
              "      <td>23.5523</td>\n",
              "      <td>5.7228</td>\n",
              "      <td>12.2680</td>\n",
              "      <td>14.4578</td>\n",
              "      <td>6.7529</td>\n",
              "      <td>3.3322</td>\n",
              "      <td>6.0151</td>\n",
              "      <td>13.4644</td>\n",
              "      <td>0.6880</td>\n",
              "      <td>0.9394</td>\n",
              "      <td>5.6790</td>\n",
              "      <td>4.5834</td>\n",
              "      <td>1.0563</td>\n",
              "      <td>14.6313</td>\n",
              "      <td>-2.3430</td>\n",
              "      <td>10.6450</td>\n",
              "      <td>12.5559</td>\n",
              "      <td>2.8601</td>\n",
              "      <td>5.8703</td>\n",
              "      <td>8.4621</td>\n",
              "      <td>...</td>\n",
              "      <td>16.3661</td>\n",
              "      <td>5.3596</td>\n",
              "      <td>4.8795</td>\n",
              "      <td>6.8406</td>\n",
              "      <td>5.0819</td>\n",
              "      <td>21.1695</td>\n",
              "      <td>3.6290</td>\n",
              "      <td>-13.0896</td>\n",
              "      <td>3.6670</td>\n",
              "      <td>6.1623</td>\n",
              "      <td>6.7088</td>\n",
              "      <td>-3.5380</td>\n",
              "      <td>17.1409</td>\n",
              "      <td>1.6089</td>\n",
              "      <td>17.7123</td>\n",
              "      <td>10.5060</td>\n",
              "      <td>-7.7631</td>\n",
              "      <td>15.0907</td>\n",
              "      <td>-12.4969</td>\n",
              "      <td>9.3213</td>\n",
              "      <td>-6.2063</td>\n",
              "      <td>9.4614</td>\n",
              "      <td>6.3960</td>\n",
              "      <td>13.5323</td>\n",
              "      <td>17.7469</td>\n",
              "      <td>1.8382</td>\n",
              "      <td>5.3562</td>\n",
              "      <td>1.2091</td>\n",
              "      <td>10.4555</td>\n",
              "      <td>0.8069</td>\n",
              "      <td>8.6035</td>\n",
              "      <td>13.4227</td>\n",
              "      <td>4.5479</td>\n",
              "      <td>9.7603</td>\n",
              "      <td>19.7257</td>\n",
              "      <td>-0.5667</td>\n",
              "      <td>-2.0744</td>\n",
              "      <td>10.1010</td>\n",
              "      <td>9.7868</td>\n",
              "      <td>11.3131</td>\n",
              "    </tr>\n",
              "  </tbody>\n",
              "</table>\n",
              "<p>3 rows × 202 columns</p>\n",
              "</div>"
            ],
            "text/plain": [
              "             ID_code  target    var_0  ...  var_197  var_198  var_199\n",
              "72770    train_72770       1   9.1131  ...   9.0038  14.1883 -22.7476\n",
              "116215  train_116215       0  12.6031  ...  10.6144  16.0924  20.7105\n",
              "118561  train_118561       0  11.4269  ...  10.1010   9.7868  11.3131\n",
              "\n",
              "[3 rows x 202 columns]"
            ]
          },
          "metadata": {
            "tags": []
          },
          "execution_count": 9
        }
      ]
    },
    {
      "cell_type": "code",
      "metadata": {
        "id": "fH1qyvG8IZk-"
      },
      "source": [
        "mean = list()\r\n",
        "std = list()\r\n",
        "skewness = list()\r\n",
        "kurt = list()\r\n",
        "for var in df.drop(['ID_code', 'target'], axis=1).columns:\r\n",
        "  mean.append(np.mean(df[var]))\r\n",
        "  std.append(np.std(df[var]))\r\n",
        "  skewness.append(skew(df[var]))\r\n",
        "  kurt.append(kurtosis(df[var]))"
      ],
      "execution_count": 10,
      "outputs": []
    },
    {
      "cell_type": "code",
      "metadata": {
        "colab": {
          "base_uri": "https://localhost:8080/",
          "height": 483
        },
        "id": "soD7YPh5Jmlr",
        "outputId": "48e2dacf-d737-4715-c042-fc62739f38a8"
      },
      "source": [
        "fig, ax = plt.subplots(nrows = 2, ncols = 2, figsize = (12, 8))\r\n",
        "fig = sns.kdeplot(mean, ax=ax[0][0], shade=True, label=\"Distribution of Mean\")\r\n",
        "fig = sns.kdeplot(std, ax=ax[0][1], shade=True, label=\"Distribution of Standard Variance\")\r\n",
        "fig = sns.kdeplot(skewness, ax=ax[1][0],shade=True, label=\"Distribution of Skewness\")\r\n",
        "fig = sns.kdeplot(kurt, ax=ax[1][1],shade=True, label=\"Distribution of Kurtosis\")"
      ],
      "execution_count": 11,
      "outputs": [
        {
          "output_type": "display_data",
          "data": {
            "image/png": "[encoded data removed]",
            "text/plain": [
              "<Figure size 864x576 with 4 Axes>"
            ]
          },
          "metadata": {
            "tags": [],
            "needs_background": "light"
          }
        }
      ]
    },
    {
      "cell_type": "code",
      "metadata": {
        "id": "s1DD9YwOnj8_"
      },
      "source": [
        "df['mean'] = np.mean(df.drop(['ID_code','target'], axis=1), axis=1)\r\n",
        "df['median'] = np.median(df.drop(['ID_code','target'], axis=1), axis=1)\r\n",
        "df['max'] = np.max(df.drop(['ID_code','target'], axis=1), axis=1)\r\n",
        "df['min'] = np.min(df.drop(['ID_code','target'], axis=1), axis=1)\r\n",
        "df['std'] = np.std(df.drop(['ID_code','target'], axis=1), axis=1)\r\n",
        "df['skewness'] = skew(df.drop(['ID_code','target'], axis=1), axis=1)\r\n",
        "df['kurtosis'] = kurtosis(df.drop(['ID_code','target'], axis=1), axis=1)"
      ],
      "execution_count": 12,
      "outputs": []
    },
    {
      "cell_type": "code",
      "metadata": {
        "id": "_FQkGQDi9oCO"
      },
      "source": [
        "for col in df.drop(['ID_code','target','mean','median','max','min','std','skewness','kurtosis'], axis=1).columns:\r\n",
        "  df[f'{col}_uni'] = df[col].duplicated()*1"
      ],
      "execution_count": 13,
      "outputs": []
    },
    {
      "cell_type": "code",
      "metadata": {
        "colab": {
          "base_uri": "https://localhost:8080/",
          "height": 204
        },
        "id": "rfLh2jVeoBwB",
        "outputId": "c9b3cbd1-a6f9-476f-ee69-7f793ae5a2e6"
      },
      "source": [
        "df.iloc[:,202:208].head()"
      ],
      "execution_count": 14,
      "outputs": [
        {
          "output_type": "execute_result",
          "data": {
            "text/html": [
              "<div>\n",
              "<style scoped>\n",
              "    .dataframe tbody tr th:only-of-type {\n",
              "        vertical-align: middle;\n",
              "    }\n",
              "\n",
              "    .dataframe tbody tr th {\n",
              "        vertical-align: top;\n",
              "    }\n",
              "\n",
              "    .dataframe thead th {\n",
              "        text-align: right;\n",
              "    }\n",
              "</style>\n",
              "<table border=\"1\" class=\"dataframe\">\n",
              "  <thead>\n",
              "    <tr style=\"text-align: right;\">\n",
              "      <th></th>\n",
              "      <th>mean</th>\n",
              "      <th>median</th>\n",
              "      <th>max</th>\n",
              "      <th>min</th>\n",
              "      <th>std</th>\n",
              "      <th>skewness</th>\n",
              "    </tr>\n",
              "  </thead>\n",
              "  <tbody>\n",
              "    <tr>\n",
              "      <th>0</th>\n",
              "      <td>7.281591</td>\n",
              "      <td>6.7806</td>\n",
              "      <td>43.1127</td>\n",
              "      <td>-21.4494</td>\n",
              "      <td>9.761325</td>\n",
              "      <td>0.190000</td>\n",
              "    </tr>\n",
              "    <tr>\n",
              "      <th>1</th>\n",
              "      <td>7.076818</td>\n",
              "      <td>7.1051</td>\n",
              "      <td>40.5632</td>\n",
              "      <td>-47.3797</td>\n",
              "      <td>11.146304</td>\n",
              "      <td>-0.688164</td>\n",
              "    </tr>\n",
              "    <tr>\n",
              "      <th>2</th>\n",
              "      <td>6.204483</td>\n",
              "      <td>5.9525</td>\n",
              "      <td>33.8820</td>\n",
              "      <td>-22.4038</td>\n",
              "      <td>9.083563</td>\n",
              "      <td>-0.066380</td>\n",
              "    </tr>\n",
              "    <tr>\n",
              "      <th>3</th>\n",
              "      <td>6.441159</td>\n",
              "      <td>6.5850</td>\n",
              "      <td>38.1015</td>\n",
              "      <td>-35.1659</td>\n",
              "      <td>10.158122</td>\n",
              "      <td>-0.570874</td>\n",
              "    </tr>\n",
              "    <tr>\n",
              "      <th>4</th>\n",
              "      <td>6.771155</td>\n",
              "      <td>6.9087</td>\n",
              "      <td>41.1037</td>\n",
              "      <td>-65.4863</td>\n",
              "      <td>12.474544</td>\n",
              "      <td>-1.860747</td>\n",
              "    </tr>\n",
              "  </tbody>\n",
              "</table>\n",
              "</div>"
            ],
            "text/plain": [
              "       mean  median      max      min        std  skewness\n",
              "0  7.281591  6.7806  43.1127 -21.4494   9.761325  0.190000\n",
              "1  7.076818  7.1051  40.5632 -47.3797  11.146304 -0.688164\n",
              "2  6.204483  5.9525  33.8820 -22.4038   9.083563 -0.066380\n",
              "3  6.441159  6.5850  38.1015 -35.1659  10.158122 -0.570874\n",
              "4  6.771155  6.9087  41.1037 -65.4863  12.474544 -1.860747"
            ]
          },
          "metadata": {
            "tags": []
          },
          "execution_count": 14
        }
      ]
    },
    {
      "cell_type": "code",
      "metadata": {
        "id": "0_NrLbAmJ5a-"
      },
      "source": [
        "#corr_mat = df.drop(['ID_code'], axis=1).corr()\r\n",
        "#fig, ax = plt.subplots(figsize=(14,10))\r\n",
        "#sns.heatmap(corr_mat)"
      ],
      "execution_count": 15,
      "outputs": []
    },
    {
      "cell_type": "code",
      "metadata": {
        "id": "IUb0bFK4pLem"
      },
      "source": [
        "#corr_mat['target'].sort_values(ascending=False).head(10)"
      ],
      "execution_count": 16,
      "outputs": []
    },
    {
      "cell_type": "code",
      "metadata": {
        "colab": {
          "base_uri": "https://localhost:8080/",
          "height": 370
        },
        "id": "bA5w9eexKy09",
        "outputId": "9efd6a7d-ecd3-4ada-8de5-5c1ff3e21624"
      },
      "source": [
        "fig, ax = plt.subplots(figsize=(4,6))\r\n",
        "(df['target'].value_counts()/len(df)*100).plot.bar(ax)\r\n",
        "plt.grid()"
      ],
      "execution_count": 17,
      "outputs": [
        {
          "output_type": "display_data",
          "data": {
            "image/png": "[encoded data removed]",
            "text/plain": [
              "<Figure size 288x432 with 1 Axes>"
            ]
          },
          "metadata": {
            "tags": [],
            "needs_background": "light"
          }
        }
      ]
    },
    {
      "cell_type": "code",
      "metadata": {
        "colab": {
          "base_uri": "https://localhost:8080/"
        },
        "id": "gDGXmMFmNTAv",
        "outputId": "5adfdbd2-8349-4141-dbab-c364dc19f4f6"
      },
      "source": [
        "df_train, df_test = train_test_split(df.drop('ID_code', axis=1))\r\n",
        "df_val, df_test = train_test_split(df_test, test_size=0.4)\r\n",
        "print(f\"Shape of Training Data : {df_train.shape[0]} rows\")\r\n",
        "print(f\"Shape of Validation Data : {df_val.shape[0]} rows\")\r\n",
        "print(f\"Shape of Testing Data : {df_test.shape[0]} rows\")"
      ],
      "execution_count": 18,
      "outputs": [
        {
          "output_type": "stream",
          "text": [
            "Shape of Training Data : 150000 rows\n",
            "Shape of Validation Data : 30000 rows\n",
            "Shape of Testing Data : 20000 rows\n"
          ],
          "name": "stdout"
        }
      ]
    },
    {
      "cell_type": "code",
      "metadata": {
        "id": "Lz87T41iPwJn"
      },
      "source": [
        "X_train, X_val, X_test= df_train.drop('target', axis=1), df_val.drop('target', axis=1), df_test.drop('target', axis=1)\r\n",
        "y_train, y_val, y_test = df_train['target'], df_val['target'], df_test['target']"
      ],
      "execution_count": 19,
      "outputs": []
    },
    {
      "cell_type": "code",
      "metadata": {
        "id": "5HtAklV8XLdA"
      },
      "source": [
        "#smote = imblearn.over_sampling.SMOTE(sampling_strategy=0.3)\r\n",
        "#under = imblearn.under_sampling.RandomUnderSampler(sampling_strategy=0.7)\r\n",
        "\r\n",
        "#X_train, y_train = smote.fit_resample(X_train, y_train)\r\n",
        "#X_train, y_train = under.fit_resample(X_train, y_train)"
      ],
      "execution_count": 25,
      "outputs": []
    },
    {
      "cell_type": "code",
      "metadata": {
        "id": "D3ugeawTO7_B"
      },
      "source": [
        "#s_scaler = StandardScaler()\r\n",
        "#s_scaler.fit(X_train)\r\n",
        "#X_train = s_scaler.transform(X_train)\r\n",
        "#X_val = s_scaler.transform(X_val)\r\n",
        "#X_test = s_scaler.transform(X_test)"
      ],
      "execution_count": 26,
      "outputs": []
    },
    {
      "cell_type": "code",
      "metadata": {
        "id": "QjtLrvz-Q85E"
      },
      "source": [
        "trn_data = lgb.Dataset(X_train, label=y_train)\r\n",
        "val_data = lgb.Dataset(X_val, label=y_val)"
      ],
      "execution_count": 27,
      "outputs": []
    },
    {
      "cell_type": "code",
      "metadata": {
        "id": "eYxegiLFbExO"
      },
      "source": [
        "param = {\r\n",
        "    'bagging_freq': 5,\r\n",
        "    'bagging_fraction': 0.4,\r\n",
        "    'boost_from_average':'false',\r\n",
        "    'boost': 'gbdt',\r\n",
        "    'feature_fraction': 0.05,\r\n",
        "    'learning_rate': 0.01,\r\n",
        "    'max_depth': -1,  \r\n",
        "    'metric':'auc',\r\n",
        "    'min_data_in_leaf': 80,\r\n",
        "    'min_sum_hessian_in_leaf': 10.0,\r\n",
        "    'num_leaves': 13,\r\n",
        "    'num_threads': 8,\r\n",
        "    'tree_learner': 'serial',\r\n",
        "    'objective': 'binary', \r\n",
        "    'verbosity': 1,\r\n",
        "    'device': 'gpu'\r\n",
        "}"
      ],
      "execution_count": 29,
      "outputs": []
    },
    {
      "cell_type": "code",
      "metadata": {
        "colab": {
          "base_uri": "https://localhost:8080/"
        },
        "id": "-ZISsmxOaLW-",
        "outputId": "7bd4aff6-5236-4e04-829a-080b715b10e2"
      },
      "source": [
        "clf = lgb.train(param, trn_data, num_boost_round=1000000, valid_sets=[trn_data, val_data], verbose_eval=1000,\r\n",
        "                early_stopping_rounds=3000)"
      ],
      "execution_count": 30,
      "outputs": [
        {
          "output_type": "stream",
          "text": [
            "[LightGBM] [Info] Number of positive: 15056, number of negative: 134944\n",
            "[LightGBM] [Info] This is the GPU trainer!!\n",
            "[LightGBM] [Info] Total Bins 53185\n",
            "[LightGBM] [Info] Number of data points in the train set: 150000, number of used features: 407\n",
            "[LightGBM] [Info] Using GPU Device: Tesla T4, Vendor: NVIDIA Corporation\n",
            "[LightGBM] [Info] Compiling OpenCL Kernel with 256 bins...\n",
            "[LightGBM] [Info] GPU programs have been built\n",
            "[LightGBM] [Info] Size of histogram bin entry: 8\n",
            "[LightGBM] [Info] 284 dense feature groups (40.63 MB) transferred to GPU in 0.059133 secs. 1 sparse feature groups\n",
            "Training until validation scores don't improve for 3000 rounds\n",
            "[1000]\ttraining's auc: 0.890274\tvalid_1's auc: 0.877043\n",
            "[2000]\ttraining's auc: 0.908721\tvalid_1's auc: 0.891003\n",
            "[3000]\ttraining's auc: 0.919826\tvalid_1's auc: 0.89799\n",
            "[4000]\ttraining's auc: 0.927644\tvalid_1's auc: 0.901563\n",
            "[5000]\ttraining's auc: 0.933851\tvalid_1's auc: 0.903328\n",
            "[6000]\ttraining's auc: 0.938992\tvalid_1's auc: 0.904225\n",
            "[7000]\ttraining's auc: 0.943685\tvalid_1's auc: 0.904867\n",
            "[8000]\ttraining's auc: 0.947987\tvalid_1's auc: 0.905307\n",
            "[9000]\ttraining's auc: 0.951934\tvalid_1's auc: 0.905538\n",
            "[10000]\ttraining's auc: 0.955695\tvalid_1's auc: 0.905818\n",
            "[11000]\ttraining's auc: 0.959202\tvalid_1's auc: 0.905786\n",
            "[12000]\ttraining's auc: 0.962557\tvalid_1's auc: 0.905865\n",
            "[13000]\ttraining's auc: 0.965645\tvalid_1's auc: 0.905871\n",
            "[14000]\ttraining's auc: 0.968555\tvalid_1's auc: 0.90577\n",
            "[15000]\ttraining's auc: 0.971243\tvalid_1's auc: 0.905834\n",
            "[16000]\ttraining's auc: 0.97381\tvalid_1's auc: 0.905599\n",
            "Early stopping, best iteration is:\n",
            "[13151]\ttraining's auc: 0.966124\tvalid_1's auc: 0.905915\n"
          ],
          "name": "stdout"
        }
      ]
    },
    {
      "cell_type": "code",
      "metadata": {
        "colab": {
          "base_uri": "https://localhost:8080/",
          "height": 282
        },
        "id": "ELPRSfmwTWWl",
        "outputId": "16665830-86ac-42c4-d48a-42bb5e2cdca0"
      },
      "source": [
        "y_pred = clf.predict(X_test, num_iteration=clf.best_iteration)\r\n",
        "roc_score = metrics.roc_auc_score(y_test, y_pred)\r\n",
        "fpr, tpr, threshold = metrics.roc_curve(y_test, y_pred)\r\n",
        "fig, ax = plt.subplots(figsize=(6,4))\r\n",
        "sns.lineplot(x=fpr, y=tpr, label=f\"AUC of ROC Score is : {roc_score}\")"
      ],
      "execution_count": 31,
      "outputs": [
        {
          "output_type": "execute_result",
          "data": {
            "text/plain": [
              "<matplotlib.axes._subplots.AxesSubplot at 0x7f4e189e2ef0>"
            ]
          },
          "metadata": {
            "tags": []
          },
          "execution_count": 31
        },
        {
          "output_type": "display_data",
          "data": {
            "image/png": "[encoded data removed]",
            "text/plain": [
              "<Figure size 432x288 with 1 Axes>"
            ]
          },
          "metadata": {
            "tags": [],
            "needs_background": "light"
          }
        }
      ]
    },
    {
      "cell_type": "code",
      "metadata": {
        "colab": {
          "base_uri": "https://localhost:8080/"
        },
        "id": "v4iAW5ZfUyMk",
        "outputId": "dd5ff755-d686-4102-b988-f94242603c5d"
      },
      "source": [
        "gmeans = np.sqrt(tpr*(1-fpr))\r\n",
        "thres = threshold[np.argmax(gmeans)]\r\n",
        "print(f\"Threshold to Use : {thres}\")"
      ],
      "execution_count": 32,
      "outputs": [
        {
          "output_type": "stream",
          "text": [
            "Threshold to Use : 0.10903162201111738\n"
          ],
          "name": "stdout"
        }
      ]
    },
    {
      "cell_type": "code",
      "metadata": {
        "id": "f6rI5nChy1RT"
      },
      "source": [
        "df_sub = pd.read_csv('test.csv')\r\n",
        "df_sub['mean'] = np.mean(df_sub.drop(['ID_code'], axis=1), axis=1)\r\n",
        "df_sub['median'] = np.median(df_sub.drop(['ID_code'], axis=1), axis=1)\r\n",
        "df_sub['max'] = np.max(df_sub.drop(['ID_code'], axis=1), axis=1)\r\n",
        "df_sub['min'] = np.min(df_sub.drop(['ID_code'], axis=1), axis=1)\r\n",
        "df_sub['std'] = np.std(df_sub.drop(['ID_code'], axis=1), axis=1)\r\n",
        "df_sub['skewness'] = skew(df_sub.drop(['ID_code'], axis=1), axis=1)\r\n",
        "df_sub['kurtosis'] = kurtosis(df_sub.drop(['ID_code'], axis=1), axis=1)\r\n",
        "for col in df_sub.drop(['ID_code','mean','median','max','min','std','skewness','kurtosis'], axis=1).columns:\r\n",
        "  df_sub[f\"{col}_uni\"] = df_sub[col].duplicated()*1\r\n",
        "X_sub = df_sub.drop(['ID_code'], axis=1)\r\n",
        "#X_sub = s_scaler.transform(X_sub)"
      ],
      "execution_count": 44,
      "outputs": []
    },
    {
      "cell_type": "code",
      "metadata": {
        "colab": {
          "base_uri": "https://localhost:8080/",
          "height": 204
        },
        "id": "VV2cWAgfSFiW",
        "outputId": "37ada437-8324-4de5-acc4-1687b5f5a171"
      },
      "source": [
        "y_sub = pd.DataFrame(df_sub['ID_code'].copy())\r\n",
        "y_sub['target'] = clf.predict(X_sub, num_iteration=clf.best_iteration)\r\n",
        "#y_sub['target'] = (y_sub['target'] >= thres)*1\r\n",
        "y_sub.head()"
      ],
      "execution_count": 46,
      "outputs": [
        {
          "output_type": "execute_result",
          "data": {
            "text/html": [
              "<div>\n",
              "<style scoped>\n",
              "    .dataframe tbody tr th:only-of-type {\n",
              "        vertical-align: middle;\n",
              "    }\n",
              "\n",
              "    .dataframe tbody tr th {\n",
              "        vertical-align: top;\n",
              "    }\n",
              "\n",
              "    .dataframe thead th {\n",
              "        text-align: right;\n",
              "    }\n",
              "</style>\n",
              "<table border=\"1\" class=\"dataframe\">\n",
              "  <thead>\n",
              "    <tr style=\"text-align: right;\">\n",
              "      <th></th>\n",
              "      <th>ID_code</th>\n",
              "      <th>target</th>\n",
              "    </tr>\n",
              "  </thead>\n",
              "  <tbody>\n",
              "    <tr>\n",
              "      <th>0</th>\n",
              "      <td>test_0</td>\n",
              "      <td>0.094701</td>\n",
              "    </tr>\n",
              "    <tr>\n",
              "      <th>1</th>\n",
              "      <td>test_1</td>\n",
              "      <td>0.222756</td>\n",
              "    </tr>\n",
              "    <tr>\n",
              "      <th>2</th>\n",
              "      <td>test_2</td>\n",
              "      <td>0.180797</td>\n",
              "    </tr>\n",
              "    <tr>\n",
              "      <th>3</th>\n",
              "      <td>test_3</td>\n",
              "      <td>0.176377</td>\n",
              "    </tr>\n",
              "    <tr>\n",
              "      <th>4</th>\n",
              "      <td>test_4</td>\n",
              "      <td>0.040723</td>\n",
              "    </tr>\n",
              "  </tbody>\n",
              "</table>\n",
              "</div>"
            ],
            "text/plain": [
              "  ID_code    target\n",
              "0  test_0  0.094701\n",
              "1  test_1  0.222756\n",
              "2  test_2  0.180797\n",
              "3  test_3  0.176377\n",
              "4  test_4  0.040723"
            ]
          },
          "metadata": {
            "tags": []
          },
          "execution_count": 46
        }
      ]
    },
    {
      "cell_type": "code",
      "metadata": {
        "id": "qr498myLTCKn"
      },
      "source": [
        "y_sub.to_csv('Submission.csv', index=False)"
      ],
      "execution_count": 47,
      "outputs": []
    },
    {
      "cell_type": "code",
      "metadata": {
        "colab": {
          "base_uri": "https://localhost:8080/"
        },
        "id": "lFLlUPYFWmoE",
        "outputId": "94305b61-20c3-4345-f833-7936f5c711d2"
      },
      "source": [
        "! kaggle competitions submit -c santander-customer-transaction-prediction -f Submission.csv -m \"First Attempt\""
      ],
      "execution_count": 48,
      "outputs": [
        {
          "output_type": "stream",
          "text": [
            "Warning: Looks like you're using an outdated API Version, please consider updating (server 1.5.10 / client 1.5.4)\n",
            "100% 6.06M/6.06M [00:00<00:00, 11.2MB/s]\n",
            "Successfully submitted to Santander Customer Transaction Prediction"
          ],
          "name": "stdout"
        }
      ]
    },
    {
      "cell_type": "code",
      "metadata": {
        "id": "gLsmMbbhlVs_"
      },
      "source": [
        ""
      ],
      "execution_count": null,
      "outputs": []
    }
  ]
}