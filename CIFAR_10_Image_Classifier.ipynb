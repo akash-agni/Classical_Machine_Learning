{
  "nbformat": 4,
  "nbformat_minor": 0,
  "metadata": {
    "colab": {
      "name": "CIFAR_10_Image_Classifier.ipynb",
      "provenance": [],
      "authorship_tag": "ABX9TyM53dTj/f9cKzKLqnsfNzbe",
      "include_colab_link": true
    },
    "kernelspec": {
      "name": "python3",
      "display_name": "Python 3"
    },
    "accelerator": "GPU"
  },
  "cells": [
    {
      "cell_type": "markdown",
      "metadata": {
        "id": "view-in-github",
        "colab_type": "text"
      },
      "source": [
        "<a href=\"https://colab.research.google.com/github/akash-agni/Machine_Learning/blob/master/CIFAR_10_Image_Classifier.ipynb\" target=\"_parent\"><img src=\"https://colab.research.google.com/assets/colab-badge.svg\" alt=\"Open In Colab\"/></a>"
      ]
    },
    {
      "cell_type": "code",
      "metadata": {
        "id": "DItw-Vd2qvDs"
      },
      "source": [
        "import tensorflow as tf\r\n",
        "import tensorflow_datasets as tfds\r\n",
        "import numpy as np\r\n",
        "import matplotlib.pyplot as plt\r\n",
        "import seaborn as sns\r\n",
        "import os\r\n",
        "from sklearn.model_selection import train_test_split\r\n",
        "\r\n",
        "from tensorflow.keras import models, layers\r\n",
        "from sklearn.metrics import accuracy_score"
      ],
      "execution_count": 72,
      "outputs": []
    },
    {
      "cell_type": "code",
      "metadata": {
        "colab": {
          "base_uri": "https://localhost:8080/"
        },
        "id": "O4r1kR8js4Fn",
        "outputId": "285888bc-b109-4d69-8d97-d76626283197"
      },
      "source": [
        "!wget https://www.cs.toronto.edu/~kriz/cifar-10-python.tar.gz"
      ],
      "execution_count": 3,
      "outputs": [
        {
          "output_type": "stream",
          "text": [
            "--2021-01-20 19:14:06--  https://www.cs.toronto.edu/~kriz/cifar-10-python.tar.gz\n",
            "Resolving www.cs.toronto.edu (www.cs.toronto.edu)... 128.100.3.30\n",
            "Connecting to www.cs.toronto.edu (www.cs.toronto.edu)|128.100.3.30|:443... connected.\n",
            "HTTP request sent, awaiting response... 200 OK\n",
            "Length: 170498071 (163M) [application/x-gzip]\n",
            "Saving to: ‘cifar-10-python.tar.gz’\n",
            "\n",
            "cifar-10-python.tar 100%[===================>] 162.60M  51.9MB/s    in 3.4s    \n",
            "\n",
            "2021-01-20 19:14:10 (47.2 MB/s) - ‘cifar-10-python.tar.gz’ saved [170498071/170498071]\n",
            "\n"
          ],
          "name": "stdout"
        }
      ]
    },
    {
      "cell_type": "code",
      "metadata": {
        "id": "l1pyQL-1vsJc"
      },
      "source": [
        "!mkdir ./cifar_10/\r\n",
        "!tar -xf cifar-10-python.tar.gz -C ./cifar_10/"
      ],
      "execution_count": 4,
      "outputs": []
    },
    {
      "cell_type": "code",
      "metadata": {
        "colab": {
          "base_uri": "https://localhost:8080/"
        },
        "id": "jC7BdyRFwq3s",
        "outputId": "21287581-764b-493a-b67c-153696d086df"
      },
      "source": [
        "!ls -l ./cifar_10/cifar-10-batches-py/"
      ],
      "execution_count": 5,
      "outputs": [
        {
          "output_type": "stream",
          "text": [
            "total 181876\n",
            "-rw-r--r-- 1 2156 1103      158 Mar 31  2009 batches.meta\n",
            "-rw-r--r-- 1 2156 1103 31035704 Mar 31  2009 data_batch_1\n",
            "-rw-r--r-- 1 2156 1103 31035320 Mar 31  2009 data_batch_2\n",
            "-rw-r--r-- 1 2156 1103 31035999 Mar 31  2009 data_batch_3\n",
            "-rw-r--r-- 1 2156 1103 31035696 Mar 31  2009 data_batch_4\n",
            "-rw-r--r-- 1 2156 1103 31035623 Mar 31  2009 data_batch_5\n",
            "-rw-r--r-- 1 2156 1103       88 Jun  4  2009 readme.html\n",
            "-rw-r--r-- 1 2156 1103 31035526 Mar 31  2009 test_batch\n"
          ],
          "name": "stdout"
        }
      ]
    },
    {
      "cell_type": "code",
      "metadata": {
        "id": "KHdHegNBwU-G"
      },
      "source": [
        "workdir = os.curdir\r\n",
        "datadir = os.path.join(workdir,'cifar_10','cifar-10-batches-py')\r\n",
        "train_files = [os.path.join(datadir,f'data_batch_{i}') for i in range(1,6)]\r\n",
        "test_file = 'test_batch'"
      ],
      "execution_count": 6,
      "outputs": []
    },
    {
      "cell_type": "code",
      "metadata": {
        "id": "kpZnA1gJxZvk"
      },
      "source": [
        "# unpickle the data file containing the image\r\n",
        "def unpickle(file):\r\n",
        "    import pickle\r\n",
        "    with open(file, 'rb') as fo:\r\n",
        "        dict = pickle.load(fo, encoding='bytes')\r\n",
        "    return dict"
      ],
      "execution_count": 7,
      "outputs": []
    },
    {
      "cell_type": "code",
      "metadata": {
        "colab": {
          "base_uri": "https://localhost:8080/"
        },
        "id": "GSbBhdKMxjbV",
        "outputId": "8d1fb4a9-420c-47f1-ff6a-5543f175b63c"
      },
      "source": [
        "data_dict = unpickle(train_files[0])\r\n",
        "data_dict.keys()"
      ],
      "execution_count": 8,
      "outputs": [
        {
          "output_type": "execute_result",
          "data": {
            "text/plain": [
              "dict_keys([b'batch_label', b'labels', b'data', b'filenames'])"
            ]
          },
          "metadata": {
            "tags": []
          },
          "execution_count": 8
        }
      ]
    },
    {
      "cell_type": "code",
      "metadata": {
        "colab": {
          "base_uri": "https://localhost:8080/"
        },
        "id": "7qNTQodt57Q8",
        "outputId": "82e7288e-2668-4180-9291-7c8a1e11658c"
      },
      "source": [
        "# read all files into a dataset\r\n",
        "data = np.empty(data_dict[b'data'].shape)\r\n",
        "labels = list()\r\n",
        "for fl in train_files:\r\n",
        "  print(f\"Loading File {fl}\")\r\n",
        "  df = unpickle(fl)\r\n",
        "  print(df[b'batch_label'])\r\n",
        "  print(f\"Geting Data\")\r\n",
        "  if df[b'batch_label'] == b'training batch 1 of 5':\r\n",
        "    data = df[b'data']\r\n",
        "  else:\r\n",
        "    data = np.concatenate([data,df[b'data']])\r\n",
        "  print(\"Geting labels\")\r\n",
        "  labels = labels + df[b'labels']\r\n",
        "  print(f\"Shape of Data is {data.shape}\")\r\n",
        "  print(\"=\"*50)"
      ],
      "execution_count": 9,
      "outputs": [
        {
          "output_type": "stream",
          "text": [
            "Loading File ./cifar_10/cifar-10-batches-py/data_batch_1\n",
            "b'training batch 1 of 5'\n",
            "Geting Data\n",
            "Geting labels\n",
            "Shape of Data is (10000, 3072)\n",
            "==================================================\n",
            "Loading File ./cifar_10/cifar-10-batches-py/data_batch_2\n",
            "b'training batch 2 of 5'\n",
            "Geting Data\n",
            "Geting labels\n",
            "Shape of Data is (20000, 3072)\n",
            "==================================================\n",
            "Loading File ./cifar_10/cifar-10-batches-py/data_batch_3\n",
            "b'training batch 3 of 5'\n",
            "Geting Data\n",
            "Geting labels\n",
            "Shape of Data is (30000, 3072)\n",
            "==================================================\n",
            "Loading File ./cifar_10/cifar-10-batches-py/data_batch_4\n",
            "b'training batch 4 of 5'\n",
            "Geting Data\n",
            "Geting labels\n",
            "Shape of Data is (40000, 3072)\n",
            "==================================================\n",
            "Loading File ./cifar_10/cifar-10-batches-py/data_batch_5\n",
            "b'training batch 5 of 5'\n",
            "Geting Data\n",
            "Geting labels\n",
            "Shape of Data is (50000, 3072)\n",
            "==================================================\n"
          ],
          "name": "stdout"
        }
      ]
    },
    {
      "cell_type": "code",
      "metadata": {
        "colab": {
          "base_uri": "https://localhost:8080/"
        },
        "id": "9008aWLS_s20",
        "outputId": "aea799cc-adbb-45eb-d050-94192a8e1ccc"
      },
      "source": [
        "# Reading Metadata\r\n",
        "label_meta = unpickle(os.path.join(datadir,'batches.meta'))[b'label_names']\r\n",
        "label_meta_mapping = {i:label_meta[i].decode('utf-8') for i in range(len(label_meta))}\r\n",
        "label_meta_mapping"
      ],
      "execution_count": 10,
      "outputs": [
        {
          "output_type": "execute_result",
          "data": {
            "text/plain": [
              "{0: 'airplane',\n",
              " 1: 'automobile',\n",
              " 2: 'bird',\n",
              " 3: 'cat',\n",
              " 4: 'deer',\n",
              " 5: 'dog',\n",
              " 6: 'frog',\n",
              " 7: 'horse',\n",
              " 8: 'ship',\n",
              " 9: 'truck'}"
            ]
          },
          "metadata": {
            "tags": []
          },
          "execution_count": 10
        }
      ]
    },
    {
      "cell_type": "code",
      "metadata": {
        "colab": {
          "base_uri": "https://localhost:8080/"
        },
        "id": "AcX-aCfmxmuM",
        "outputId": "28f70749-77cd-4701-e21a-c13bf72cbd21"
      },
      "source": [
        "labels = np.array(labels)\r\n",
        "for i in range(0,10):\r\n",
        "  lb_count = np.sum((labels == i)*1)\r\n",
        "  print(f\"{label_meta_mapping[i]}: {lb_count}\")"
      ],
      "execution_count": 11,
      "outputs": [
        {
          "output_type": "stream",
          "text": [
            "airplane: 5000\n",
            "automobile: 5000\n",
            "bird: 5000\n",
            "cat: 5000\n",
            "deer: 5000\n",
            "dog: 5000\n",
            "frog: 5000\n",
            "horse: 5000\n",
            "ship: 5000\n",
            "truck: 5000\n"
          ],
          "name": "stdout"
        }
      ]
    },
    {
      "cell_type": "code",
      "metadata": {
        "colab": {
          "base_uri": "https://localhost:8080/"
        },
        "id": "mvfd7ffsK25s",
        "outputId": "3807a96e-acbf-4aec-bc7a-cd963fc1d482"
      },
      "source": [
        "np.sqrt(3072)"
      ],
      "execution_count": 12,
      "outputs": [
        {
          "output_type": "execute_result",
          "data": {
            "text/plain": [
              "55.42562584220407"
            ]
          },
          "metadata": {
            "tags": []
          },
          "execution_count": 12
        }
      ]
    },
    {
      "cell_type": "code",
      "metadata": {
        "id": "yZ5IvZ17Ksd3"
      },
      "source": [
        "data_rgb = np.reshape(data, (data.shape[0], 32, 32, 3))"
      ],
      "execution_count": 13,
      "outputs": []
    },
    {
      "cell_type": "code",
      "metadata": {
        "colab": {
          "base_uri": "https://localhost:8080/"
        },
        "id": "dlBd-n2wCnbj",
        "outputId": "a6683a77-9b6e-42be-900e-66b3ff0030be"
      },
      "source": [
        "train_X, test_X, train_y, test_y = train_test_split(data_rgb, np.array(labels), test_size=0.2)\r\n",
        "test_X, val_X, test_y, val_y = train_test_split(test_X, test_y, test_size=0.7)\r\n",
        "print(f\"Training Data Size : {train_X.shape[0]}\")\r\n",
        "print(f\"Validation Data Size : {val_X.shape[0]}\")\r\n",
        "print(f\"Testing Data Size : {test_X.shape[0]}\")"
      ],
      "execution_count": 14,
      "outputs": [
        {
          "output_type": "stream",
          "text": [
            "Training Data Size : 40000\n",
            "Validation Data Size : 7000\n",
            "Testing Data Size : 3000\n"
          ],
          "name": "stdout"
        }
      ]
    },
    {
      "cell_type": "code",
      "metadata": {
        "id": "rtI_7kvJyEYl"
      },
      "source": [
        "model = models.Sequential()\r\n",
        "model.add(layers.Conv2D(32, (3, 3), activation='relu', input_shape=(32, 32, 3)))\r\n",
        "model.add(layers.MaxPooling2D((2, 2)))\r\n",
        "model.add(layers.Conv2D(64, (3, 3), activation='relu'))\r\n",
        "model.add(layers.MaxPooling2D((2, 2)))\r\n",
        "model.add(layers.Conv2D(64, (3, 3), activation='relu'))\r\n",
        "model.add(layers.Flatten())\r\n",
        "model.add(layers.Dense(64, activation='relu'))\r\n",
        "model.add(layers.Dense(10, activation='softmax'))"
      ],
      "execution_count": 26,
      "outputs": []
    },
    {
      "cell_type": "code",
      "metadata": {
        "colab": {
          "base_uri": "https://localhost:8080/"
        },
        "id": "42qZBhycG-Ov",
        "outputId": "e6d88d0d-f3c3-4802-ccc1-bed5c77dc15e"
      },
      "source": [
        "model.summary()"
      ],
      "execution_count": 27,
      "outputs": [
        {
          "output_type": "stream",
          "text": [
            "Model: \"sequential_2\"\n",
            "_________________________________________________________________\n",
            "Layer (type)                 Output Shape              Param #   \n",
            "=================================================================\n",
            "conv2d_6 (Conv2D)            (None, 30, 30, 32)        896       \n",
            "_________________________________________________________________\n",
            "max_pooling2d_4 (MaxPooling2 (None, 15, 15, 32)        0         \n",
            "_________________________________________________________________\n",
            "conv2d_7 (Conv2D)            (None, 13, 13, 64)        18496     \n",
            "_________________________________________________________________\n",
            "max_pooling2d_5 (MaxPooling2 (None, 6, 6, 64)          0         \n",
            "_________________________________________________________________\n",
            "conv2d_8 (Conv2D)            (None, 4, 4, 64)          36928     \n",
            "_________________________________________________________________\n",
            "flatten_2 (Flatten)          (None, 1024)              0         \n",
            "_________________________________________________________________\n",
            "dense_4 (Dense)              (None, 64)                65600     \n",
            "_________________________________________________________________\n",
            "dense_5 (Dense)              (None, 10)                650       \n",
            "=================================================================\n",
            "Total params: 122,570\n",
            "Trainable params: 122,570\n",
            "Non-trainable params: 0\n",
            "_________________________________________________________________\n"
          ],
          "name": "stdout"
        }
      ]
    },
    {
      "cell_type": "code",
      "metadata": {
        "id": "U3a8HBQOLesF"
      },
      "source": [
        "model.compile(optimizer='adam',\r\n",
        "              loss=tf.keras.losses.SparseCategoricalCrossentropy(from_logits=True),\r\n",
        "              metrics=['accuracy'])"
      ],
      "execution_count": 28,
      "outputs": []
    },
    {
      "cell_type": "code",
      "metadata": {
        "colab": {
          "base_uri": "https://localhost:8080/"
        },
        "id": "nKCOyZofL9QH",
        "outputId": "c42ff529-a679-4a81-a8d3-a96fa9d3ba4a"
      },
      "source": [
        "model.fit(x=train_X, y=train_y, batch_size=32, epochs=10, validation_data=(val_X, val_y), workers=-1,use_multiprocessing=True)"
      ],
      "execution_count": 29,
      "outputs": [
        {
          "output_type": "stream",
          "text": [
            "Epoch 1/10\n",
            "1250/1250 [==============================] - 4s 3ms/step - loss: 3.5710 - accuracy: 0.2514 - val_loss: 1.6179 - val_accuracy: 0.4226\n",
            "Epoch 2/10\n",
            "1250/1250 [==============================] - 3s 3ms/step - loss: 1.6230 - accuracy: 0.4149 - val_loss: 1.5574 - val_accuracy: 0.4479\n",
            "Epoch 3/10\n",
            "1250/1250 [==============================] - 3s 3ms/step - loss: 1.5063 - accuracy: 0.4643 - val_loss: 1.4676 - val_accuracy: 0.4769\n",
            "Epoch 4/10\n",
            "1250/1250 [==============================] - 3s 3ms/step - loss: 1.4273 - accuracy: 0.4905 - val_loss: 1.4711 - val_accuracy: 0.4811\n",
            "Epoch 5/10\n",
            "1250/1250 [==============================] - 3s 3ms/step - loss: 1.3917 - accuracy: 0.5068 - val_loss: 1.3986 - val_accuracy: 0.5076\n",
            "Epoch 6/10\n",
            "1250/1250 [==============================] - 3s 3ms/step - loss: 1.3480 - accuracy: 0.5224 - val_loss: 1.3904 - val_accuracy: 0.5027\n",
            "Epoch 7/10\n",
            "1250/1250 [==============================] - 3s 3ms/step - loss: 1.2803 - accuracy: 0.5454 - val_loss: 1.3402 - val_accuracy: 0.5363\n",
            "Epoch 8/10\n",
            "1250/1250 [==============================] - 3s 3ms/step - loss: 1.2498 - accuracy: 0.5569 - val_loss: 1.3323 - val_accuracy: 0.5316\n",
            "Epoch 9/10\n",
            "1250/1250 [==============================] - 3s 3ms/step - loss: 1.2101 - accuracy: 0.5730 - val_loss: 1.3380 - val_accuracy: 0.5294\n",
            "Epoch 10/10\n",
            "1250/1250 [==============================] - 3s 3ms/step - loss: 1.1831 - accuracy: 0.5763 - val_loss: 1.3723 - val_accuracy: 0.5374\n"
          ],
          "name": "stdout"
        },
        {
          "output_type": "execute_result",
          "data": {
            "text/plain": [
              "<tensorflow.python.keras.callbacks.History at 0x7f6f605197f0>"
            ]
          },
          "metadata": {
            "tags": []
          },
          "execution_count": 29
        }
      ]
    },
    {
      "cell_type": "code",
      "metadata": {
        "id": "Ahcl3XCAOH_W"
      },
      "source": [
        "def top_5_error_rate(predict_proba, y_true):\r\n",
        "  result = 0\r\n",
        "  for i in range(len(y_true)):\r\n",
        "    row = predict_proba[i,:]\r\n",
        "    top_5 = sorted(range(len(row)), key = lambda x: row[x], reverse=True)[:5]\r\n",
        "    if y_true[i] in top_5:\r\n",
        "      result = result + 1\r\n",
        "  \r\n",
        "  return result/len(y_true)"
      ],
      "execution_count": 74,
      "outputs": []
    },
    {
      "cell_type": "code",
      "metadata": {
        "colab": {
          "base_uri": "https://localhost:8080/"
        },
        "id": "QTXGUCkQO0zs",
        "outputId": "2f8921f4-df5e-413f-d663-a668921082c2"
      },
      "source": [
        "proba_train_X = model.predict(test_X)\r\n",
        "print(f'Accuracy Score : {model.evaluate(test_X, test_y)}')\r\n",
        "print(top_5_error_rate(proba_train_X, test_y))"
      ],
      "execution_count": 75,
      "outputs": [
        {
          "output_type": "stream",
          "text": [
            "94/94 [==============================] - 0s 2ms/step - loss: 1.3794 - accuracy: 0.5240\n",
            "Accuracy Score : [1.3793678283691406, 0.5239999890327454]\n",
            "0.9266666666666666\n"
          ],
          "name": "stdout"
        }
      ]
    },
    {
      "cell_type": "code",
      "metadata": {
        "id": "FPy-x08_Rqrr"
      },
      "source": [
        "test_batch = unpickle(os.path.join(datadir,'test_batch'))\r\n",
        "test_data = test_batch[b'data']\r\n",
        "test_labels = test_batch[b'labels']"
      ],
      "execution_count": 66,
      "outputs": []
    },
    {
      "cell_type": "code",
      "metadata": {
        "id": "QSbPOBk5T0iW"
      },
      "source": [
        "test_data = np.reshape(test_data, (test_data.shape[0], 32, 32, 3))"
      ],
      "execution_count": 69,
      "outputs": []
    },
    {
      "cell_type": "code",
      "metadata": {
        "colab": {
          "base_uri": "https://localhost:8080/"
        },
        "id": "jaY38UrkTpw9",
        "outputId": "c14105ce-4d37-42ac-e30f-128a01dcd5fc"
      },
      "source": [
        "proba_train_X = model.predict(test_data)\r\n",
        "print(f'Accuracy Score : {model.evaluate(test_data, np.array(test_labels))}')\r\n",
        "print(top_5_error_rate(proba_train_X, test_labels))"
      ],
      "execution_count": 78,
      "outputs": [
        {
          "output_type": "stream",
          "text": [
            "313/313 [==============================] - 1s 2ms/step - loss: 1.3684 - accuracy: 0.5313\n",
            "Accuracy Score : [1.3683886528015137, 0.5313000082969666]\n",
            "0.9282\n"
          ],
          "name": "stdout"
        }
      ]
    },
    {
      "cell_type": "code",
      "metadata": {
        "id": "0OtX3FCnTq66"
      },
      "source": [
        ""
      ],
      "execution_count": null,
      "outputs": []
    }
  ]
}